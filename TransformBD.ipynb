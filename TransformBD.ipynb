{
 "cells": [
  {
   "cell_type": "code",
   "execution_count": 4,
   "id": "309ac746",
   "metadata": {},
   "outputs": [],
   "source": [
    "import pandas as pd\n",
    "#from rdkit import Chem\n",
    "import subprocess\n",
    "#from rdkit import Chem"
   ]
  },
  {
   "cell_type": "markdown",
   "id": "bcd5b9a3",
   "metadata": {},
   "source": [
    "# Open the db and extract the smi"
   ]
  },
  {
   "cell_type": "code",
   "execution_count": 32,
   "id": "26571340",
   "metadata": {},
   "outputs": [],
   "source": [
    "donné=pd.read_csv('pilot_library.csv')  "
   ]
  },
  {
   "cell_type": "code",
   "execution_count": 33,
   "id": "5dd0660b",
   "metadata": {},
   "outputs": [
    {
     "data": {
      "text/plain": [
       "(5016, 16)"
      ]
     },
     "execution_count": 33,
     "metadata": {},
     "output_type": "execute_result"
    }
   ],
   "source": [
    "donné.shape"
   ]
  },
  {
   "cell_type": "code",
   "execution_count": 34,
   "id": "dcc81681",
   "metadata": {},
   "outputs": [
    {
     "data": {
      "text/html": [
       "<div>\n",
       "<style scoped>\n",
       "    .dataframe tbody tr th:only-of-type {\n",
       "        vertical-align: middle;\n",
       "    }\n",
       "\n",
       "    .dataframe tbody tr th {\n",
       "        vertical-align: top;\n",
       "    }\n",
       "\n",
       "    .dataframe thead th {\n",
       "        text-align: right;\n",
       "    }\n",
       "</style>\n",
       "<table border=\"1\" class=\"dataframe\">\n",
       "  <thead>\n",
       "    <tr style=\"text-align: right;\">\n",
       "      <th></th>\n",
       "      <th>eos</th>\n",
       "      <th>smiles</th>\n",
       "      <th>inchi</th>\n",
       "      <th>inchikey</th>\n",
       "      <th>formula</th>\n",
       "      <th>mw</th>\n",
       "      <th>hba</th>\n",
       "      <th>hbd</th>\n",
       "      <th>tpsa</th>\n",
       "      <th>rb</th>\n",
       "      <th>fp3</th>\n",
       "      <th>logp</th>\n",
       "      <th>violates_ro5</th>\n",
       "      <th>pubchem</th>\n",
       "      <th>chembl</th>\n",
       "      <th>zinc</th>\n",
       "    </tr>\n",
       "  </thead>\n",
       "  <tbody>\n",
       "    <tr>\n",
       "      <th>0</th>\n",
       "      <td>EOS1</td>\n",
       "      <td>COc1ccc(N2C(=O)NC(CC(=O)N3CCC(c4ccccc4)CC3)C2=...</td>\n",
       "      <td>InChI=1S/C23H25N3O4/c1-30-19-9-7-18(8-10-19)26...</td>\n",
       "      <td>BDSKOWUCRDTSBA-UHFFFAOYSA-N</td>\n",
       "      <td>C23H25N3O4</td>\n",
       "      <td>407.470001</td>\n",
       "      <td>7</td>\n",
       "      <td>1</td>\n",
       "      <td>78.949997</td>\n",
       "      <td>5</td>\n",
       "      <td>0.347826</td>\n",
       "      <td>2.91630</td>\n",
       "      <td>0</td>\n",
       "      <td>CID91820963</td>\n",
       "      <td>NaN</td>\n",
       "      <td>NaN</td>\n",
       "    </tr>\n",
       "    <tr>\n",
       "      <th>1</th>\n",
       "      <td>EOS2</td>\n",
       "      <td>COc1cc2ncn(CCC(=O)NCc3cccc(F)c3)c(=O)c2cc1OC</td>\n",
       "      <td>InChI=1S/C20H20FN3O4/c1-27-17-9-15-16(10-18(17...</td>\n",
       "      <td>BBHNGOSSYMSMBL-UHFFFAOYSA-N</td>\n",
       "      <td>C20H20FN3O4</td>\n",
       "      <td>385.394989</td>\n",
       "      <td>7</td>\n",
       "      <td>1</td>\n",
       "      <td>82.449997</td>\n",
       "      <td>7</td>\n",
       "      <td>0.250000</td>\n",
       "      <td>2.25930</td>\n",
       "      <td>0</td>\n",
       "      <td>CID39351211</td>\n",
       "      <td>NaN</td>\n",
       "      <td>ZINC000032103955</td>\n",
       "    </tr>\n",
       "    <tr>\n",
       "      <th>2</th>\n",
       "      <td>EOS3</td>\n",
       "      <td>O=C(C1CCCCC12OCCO2)N1CCOC(c2ccccc2)C1</td>\n",
       "      <td>InChI=1S/C19H25NO4/c21-18(16-8-4-5-9-19(16)23-...</td>\n",
       "      <td>FDNIQBQHPFKADZ-UHFFFAOYSA-N</td>\n",
       "      <td>C19H25NO4</td>\n",
       "      <td>331.411987</td>\n",
       "      <td>5</td>\n",
       "      <td>0</td>\n",
       "      <td>48.000000</td>\n",
       "      <td>2</td>\n",
       "      <td>0.631579</td>\n",
       "      <td>2.51980</td>\n",
       "      <td>0</td>\n",
       "      <td>CID118986097</td>\n",
       "      <td>NaN</td>\n",
       "      <td>NaN</td>\n",
       "    </tr>\n",
       "    <tr>\n",
       "      <th>3</th>\n",
       "      <td>EOS4</td>\n",
       "      <td>O=C(CCCC(=O)N1CCOC(c2ccccc2)C1)N1CCOC(c2ccccc2)C1</td>\n",
       "      <td>InChI=1S/C25H30N2O4/c28-24(26-14-16-30-22(18-2...</td>\n",
       "      <td>ACLWFALTINVVJH-UHFFFAOYSA-N</td>\n",
       "      <td>C25H30N2O4</td>\n",
       "      <td>422.524994</td>\n",
       "      <td>6</td>\n",
       "      <td>0</td>\n",
       "      <td>59.080002</td>\n",
       "      <td>6</td>\n",
       "      <td>0.440000</td>\n",
       "      <td>3.35690</td>\n",
       "      <td>0</td>\n",
       "      <td>CID118986099</td>\n",
       "      <td>NaN</td>\n",
       "      <td>NaN</td>\n",
       "    </tr>\n",
       "    <tr>\n",
       "      <th>4</th>\n",
       "      <td>EOS5</td>\n",
       "      <td>CC[C@@H](C)[C@@H](CO)NC(=O)Cc1c(C)c2ccc(O)cc2o...</td>\n",
       "      <td>InChI=1S/C18H23NO5/c1-4-10(2)15(9-20)19-17(22)...</td>\n",
       "      <td>WSIYPOIJJLVUDP-MEBBXXQBSA-N</td>\n",
       "      <td>C18H23NO5</td>\n",
       "      <td>333.384003</td>\n",
       "      <td>6</td>\n",
       "      <td>3</td>\n",
       "      <td>99.769997</td>\n",
       "      <td>6</td>\n",
       "      <td>0.444444</td>\n",
       "      <td>1.87272</td>\n",
       "      <td>0</td>\n",
       "      <td>CID91637070</td>\n",
       "      <td>NaN</td>\n",
       "      <td>ZINC000217689925</td>\n",
       "    </tr>\n",
       "  </tbody>\n",
       "</table>\n",
       "</div>"
      ],
      "text/plain": [
       "    eos                                             smiles  \\\n",
       "0  EOS1  COc1ccc(N2C(=O)NC(CC(=O)N3CCC(c4ccccc4)CC3)C2=...   \n",
       "1  EOS2       COc1cc2ncn(CCC(=O)NCc3cccc(F)c3)c(=O)c2cc1OC   \n",
       "2  EOS3              O=C(C1CCCCC12OCCO2)N1CCOC(c2ccccc2)C1   \n",
       "3  EOS4  O=C(CCCC(=O)N1CCOC(c2ccccc2)C1)N1CCOC(c2ccccc2)C1   \n",
       "4  EOS5  CC[C@@H](C)[C@@H](CO)NC(=O)Cc1c(C)c2ccc(O)cc2o...   \n",
       "\n",
       "                                               inchi  \\\n",
       "0  InChI=1S/C23H25N3O4/c1-30-19-9-7-18(8-10-19)26...   \n",
       "1  InChI=1S/C20H20FN3O4/c1-27-17-9-15-16(10-18(17...   \n",
       "2  InChI=1S/C19H25NO4/c21-18(16-8-4-5-9-19(16)23-...   \n",
       "3  InChI=1S/C25H30N2O4/c28-24(26-14-16-30-22(18-2...   \n",
       "4  InChI=1S/C18H23NO5/c1-4-10(2)15(9-20)19-17(22)...   \n",
       "\n",
       "                      inchikey      formula          mw  hba  hbd       tpsa  \\\n",
       "0  BDSKOWUCRDTSBA-UHFFFAOYSA-N   C23H25N3O4  407.470001    7    1  78.949997   \n",
       "1  BBHNGOSSYMSMBL-UHFFFAOYSA-N  C20H20FN3O4  385.394989    7    1  82.449997   \n",
       "2  FDNIQBQHPFKADZ-UHFFFAOYSA-N    C19H25NO4  331.411987    5    0  48.000000   \n",
       "3  ACLWFALTINVVJH-UHFFFAOYSA-N   C25H30N2O4  422.524994    6    0  59.080002   \n",
       "4  WSIYPOIJJLVUDP-MEBBXXQBSA-N    C18H23NO5  333.384003    6    3  99.769997   \n",
       "\n",
       "   rb       fp3     logp  violates_ro5       pubchem chembl              zinc  \n",
       "0   5  0.347826  2.91630             0   CID91820963    NaN               NaN  \n",
       "1   7  0.250000  2.25930             0   CID39351211    NaN  ZINC000032103955  \n",
       "2   2  0.631579  2.51980             0  CID118986097    NaN               NaN  \n",
       "3   6  0.440000  3.35690             0  CID118986099    NaN               NaN  \n",
       "4   6  0.444444  1.87272             0   CID91637070    NaN  ZINC000217689925  "
      ]
     },
     "execution_count": 34,
     "metadata": {},
     "output_type": "execute_result"
    }
   ],
   "source": [
    "donné.head()"
   ]
  },
  {
   "cell_type": "code",
   "execution_count": 35,
   "id": "0e4dba86",
   "metadata": {},
   "outputs": [],
   "source": [
    "for i in range(len(donné)):\n",
    "    f=open(\"Datasmile/EOS\"+str(i)+\".smi\",\"w\")\n",
    "    f.write(donné[\"smiles\"][i])\n",
    "    f.close()"
   ]
  },
  {
   "cell_type": "markdown",
   "id": "00af8b4f",
   "metadata": {},
   "source": [
    "# Transform SMI into PDB a"
   ]
  },
  {
   "cell_type": "code",
   "execution_count": 18,
   "id": "532fb8eb",
   "metadata": {
    "scrolled": true
   },
   "outputs": [
    {
     "name": "stdout",
     "output_type": "stream",
     "text": [
      "4765\n"
     ]
    },
    {
     "name": "stderr",
     "output_type": "stream",
     "text": [
      "==============================\n",
      "*** Open Babel Error  in OpenAndSetFormat\n",
      "  Cannot open smi\n",
      "1 molecule converted\n"
     ]
    },
    {
     "name": "stdout",
     "output_type": "stream",
     "text": [
      "4766\n"
     ]
    },
    {
     "name": "stderr",
     "output_type": "stream",
     "text": [
      "==============================\n",
      "*** Open Babel Error  in OpenAndSetFormat\n",
      "  Cannot open smi\n",
      "1 molecule converted\n"
     ]
    },
    {
     "name": "stdout",
     "output_type": "stream",
     "text": [
      "4767\n"
     ]
    },
    {
     "name": "stderr",
     "output_type": "stream",
     "text": [
      "==============================\n",
      "*** Open Babel Error  in OpenAndSetFormat\n",
      "  Cannot open smi\n",
      "1 molecule converted\n"
     ]
    },
    {
     "name": "stdout",
     "output_type": "stream",
     "text": [
      "4768\n"
     ]
    },
    {
     "name": "stderr",
     "output_type": "stream",
     "text": [
      "==============================\n",
      "*** Open Babel Error  in OpenAndSetFormat\n",
      "  Cannot open smi\n",
      "1 molecule converted\n"
     ]
    },
    {
     "name": "stdout",
     "output_type": "stream",
     "text": [
      "4769\n"
     ]
    },
    {
     "name": "stderr",
     "output_type": "stream",
     "text": [
      "==============================\n",
      "*** Open Babel Error  in OpenAndSetFormat\n",
      "  Cannot open smi\n",
      "1 molecule converted\n"
     ]
    },
    {
     "name": "stdout",
     "output_type": "stream",
     "text": [
      "4770\n"
     ]
    },
    {
     "name": "stderr",
     "output_type": "stream",
     "text": [
      "==============================\n",
      "*** Open Babel Error  in OpenAndSetFormat\n",
      "  Cannot open smi\n",
      "1 molecule converted\n"
     ]
    },
    {
     "name": "stdout",
     "output_type": "stream",
     "text": [
      "4771\n"
     ]
    },
    {
     "name": "stderr",
     "output_type": "stream",
     "text": [
      "==============================\n",
      "*** Open Babel Error  in OpenAndSetFormat\n",
      "  Cannot open smi\n",
      "1 molecule converted\n"
     ]
    },
    {
     "name": "stdout",
     "output_type": "stream",
     "text": [
      "4772\n"
     ]
    },
    {
     "name": "stderr",
     "output_type": "stream",
     "text": [
      "==============================\n",
      "*** Open Babel Error  in OpenAndSetFormat\n",
      "  Cannot open smi\n",
      "1 molecule converted\n"
     ]
    },
    {
     "name": "stdout",
     "output_type": "stream",
     "text": [
      "4773\n"
     ]
    },
    {
     "name": "stderr",
     "output_type": "stream",
     "text": [
      "==============================\n",
      "*** Open Babel Error  in OpenAndSetFormat\n",
      "  Cannot open smi\n",
      "1 molecule converted\n"
     ]
    },
    {
     "name": "stdout",
     "output_type": "stream",
     "text": [
      "4774\n"
     ]
    },
    {
     "name": "stderr",
     "output_type": "stream",
     "text": [
      "==============================\n",
      "*** Open Babel Error  in OpenAndSetFormat\n",
      "  Cannot open smi\n",
      "1 molecule converted\n",
      "==============================\n",
      "*** Open Babel Error  in OpenAndSetFormat\n",
      "  Cannot open smi\n"
     ]
    },
    {
     "name": "stdout",
     "output_type": "stream",
     "text": [
      "4775\n"
     ]
    },
    {
     "name": "stderr",
     "output_type": "stream",
     "text": [
      "1 molecule converted\n",
      "==============================\n",
      "*** Open Babel Error  in OpenAndSetFormat\n",
      "  Cannot open smi\n"
     ]
    },
    {
     "name": "stdout",
     "output_type": "stream",
     "text": [
      "4776\n"
     ]
    },
    {
     "name": "stderr",
     "output_type": "stream",
     "text": [
      "1 molecule converted\n",
      "==============================\n",
      "*** Open Babel Error  in OpenAndSetFormat\n",
      "  Cannot open smi\n"
     ]
    },
    {
     "name": "stdout",
     "output_type": "stream",
     "text": [
      "4777\n"
     ]
    },
    {
     "name": "stderr",
     "output_type": "stream",
     "text": [
      "1 molecule converted\n",
      "==============================\n",
      "*** Open Babel Error  in OpenAndSetFormat\n",
      "  Cannot open smi\n"
     ]
    },
    {
     "name": "stdout",
     "output_type": "stream",
     "text": [
      "4778\n"
     ]
    },
    {
     "name": "stderr",
     "output_type": "stream",
     "text": [
      "1 molecule converted\n",
      "==============================\n",
      "*** Open Babel Error  in OpenAndSetFormat\n",
      "  Cannot open smi\n"
     ]
    },
    {
     "name": "stdout",
     "output_type": "stream",
     "text": [
      "4779\n"
     ]
    },
    {
     "name": "stderr",
     "output_type": "stream",
     "text": [
      "1 molecule converted\n",
      "==============================\n",
      "*** Open Babel Error  in OpenAndSetFormat\n",
      "  Cannot open smi\n"
     ]
    },
    {
     "name": "stdout",
     "output_type": "stream",
     "text": [
      "4780\n"
     ]
    },
    {
     "name": "stderr",
     "output_type": "stream",
     "text": [
      "==============================\n",
      "*** Open Babel Error  in Do\n",
      "  3D coordinate generation failed\n",
      "1 molecule converted\n",
      "==============================\n",
      "*** Open Babel Error  in OpenAndSetFormat\n",
      "  Cannot open smi\n"
     ]
    },
    {
     "name": "stdout",
     "output_type": "stream",
     "text": [
      "4781\n"
     ]
    },
    {
     "name": "stderr",
     "output_type": "stream",
     "text": [
      "1 molecule converted\n",
      "==============================\n",
      "*** Open Babel Error  in OpenAndSetFormat\n",
      "  Cannot open smi\n"
     ]
    },
    {
     "name": "stdout",
     "output_type": "stream",
     "text": [
      "4782\n"
     ]
    },
    {
     "name": "stderr",
     "output_type": "stream",
     "text": [
      "1 molecule converted\n",
      "==============================\n",
      "*** Open Babel Error  in OpenAndSetFormat\n",
      "  Cannot open smi\n"
     ]
    },
    {
     "name": "stdout",
     "output_type": "stream",
     "text": [
      "4783\n"
     ]
    },
    {
     "name": "stderr",
     "output_type": "stream",
     "text": [
      "==============================\n",
      "*** Open Babel Warning  in CorrectStereoAtoms\n",
      "  Could not correct 3 stereocenter(s) in this molecule ()\n",
      "  with Atom Ids as follows: 1 15 18\n",
      "Warning: Stereochemistry is wrong, using the distance geometry method instead\n",
      "1 molecule converted\n",
      "==============================\n",
      "*** Open Babel Error  in OpenAndSetFormat\n",
      "  Cannot open smi\n"
     ]
    },
    {
     "name": "stdout",
     "output_type": "stream",
     "text": [
      "4784\n"
     ]
    },
    {
     "name": "stderr",
     "output_type": "stream",
     "text": [
      "1 molecule converted\n",
      "==============================\n",
      "*** Open Babel Error  in OpenAndSetFormat\n",
      "  Cannot open smi\n"
     ]
    },
    {
     "name": "stdout",
     "output_type": "stream",
     "text": [
      "4785\n"
     ]
    },
    {
     "name": "stderr",
     "output_type": "stream",
     "text": [
      "1 molecule converted\n",
      "==============================\n",
      "*** Open Babel Error  in OpenAndSetFormat\n",
      "  Cannot open smi\n"
     ]
    },
    {
     "name": "stdout",
     "output_type": "stream",
     "text": [
      "4786\n"
     ]
    },
    {
     "name": "stderr",
     "output_type": "stream",
     "text": [
      "1 molecule converted\n",
      "==============================\n",
      "*** Open Babel Error  in OpenAndSetFormat\n",
      "  Cannot open smi\n"
     ]
    },
    {
     "name": "stdout",
     "output_type": "stream",
     "text": [
      "4787\n"
     ]
    },
    {
     "name": "stderr",
     "output_type": "stream",
     "text": [
      "1 molecule converted\n",
      "==============================\n",
      "*** Open Babel Error  in OpenAndSetFormat\n",
      "  Cannot open smi\n"
     ]
    },
    {
     "name": "stdout",
     "output_type": "stream",
     "text": [
      "4788\n"
     ]
    },
    {
     "name": "stderr",
     "output_type": "stream",
     "text": [
      "1 molecule converted\n",
      "==============================\n",
      "*** Open Babel Error  in OpenAndSetFormat\n",
      "  Cannot open smi\n"
     ]
    },
    {
     "name": "stdout",
     "output_type": "stream",
     "text": [
      "4789\n"
     ]
    },
    {
     "name": "stderr",
     "output_type": "stream",
     "text": [
      "1 molecule converted\n",
      "==============================\n",
      "*** Open Babel Error  in OpenAndSetFormat\n",
      "  Cannot open smi\n"
     ]
    },
    {
     "name": "stdout",
     "output_type": "stream",
     "text": [
      "4790\n"
     ]
    },
    {
     "name": "stderr",
     "output_type": "stream",
     "text": [
      "1 molecule converted\n",
      "==============================\n",
      "*** Open Babel Error  in OpenAndSetFormat\n",
      "  Cannot open smi\n"
     ]
    },
    {
     "name": "stdout",
     "output_type": "stream",
     "text": [
      "4791\n"
     ]
    },
    {
     "name": "stderr",
     "output_type": "stream",
     "text": [
      "1 molecule converted\n",
      "==============================\n",
      "*** Open Babel Error  in OpenAndSetFormat\n",
      "  Cannot open smi\n"
     ]
    },
    {
     "name": "stdout",
     "output_type": "stream",
     "text": [
      "4792\n"
     ]
    },
    {
     "name": "stderr",
     "output_type": "stream",
     "text": [
      "1 molecule converted\n",
      "==============================\n",
      "*** Open Babel Error  in OpenAndSetFormat\n",
      "  Cannot open smi\n"
     ]
    },
    {
     "name": "stdout",
     "output_type": "stream",
     "text": [
      "4793\n"
     ]
    },
    {
     "name": "stderr",
     "output_type": "stream",
     "text": [
      "1 molecule converted\n",
      "==============================\n",
      "*** Open Babel Error  in OpenAndSetFormat\n",
      "  Cannot open smi\n"
     ]
    },
    {
     "name": "stdout",
     "output_type": "stream",
     "text": [
      "4794\n"
     ]
    },
    {
     "name": "stderr",
     "output_type": "stream",
     "text": [
      "1 molecule converted\n",
      "==============================\n",
      "*** Open Babel Error  in OpenAndSetFormat\n",
      "  Cannot open smi\n"
     ]
    },
    {
     "name": "stdout",
     "output_type": "stream",
     "text": [
      "4795\n"
     ]
    },
    {
     "name": "stderr",
     "output_type": "stream",
     "text": [
      "1 molecule converted\n",
      "==============================\n",
      "*** Open Babel Error  in OpenAndSetFormat\n",
      "  Cannot open smi\n"
     ]
    },
    {
     "name": "stdout",
     "output_type": "stream",
     "text": [
      "4796\n"
     ]
    },
    {
     "name": "stderr",
     "output_type": "stream",
     "text": [
      "1 molecule converted\n",
      "==============================\n",
      "*** Open Babel Error  in OpenAndSetFormat\n",
      "  Cannot open smi\n"
     ]
    },
    {
     "name": "stdout",
     "output_type": "stream",
     "text": [
      "4797\n"
     ]
    },
    {
     "name": "stderr",
     "output_type": "stream",
     "text": [
      "1 molecule converted\n",
      "==============================\n",
      "*** Open Babel Error  in OpenAndSetFormat\n",
      "  Cannot open smi\n"
     ]
    },
    {
     "name": "stdout",
     "output_type": "stream",
     "text": [
      "4798\n"
     ]
    },
    {
     "name": "stderr",
     "output_type": "stream",
     "text": [
      "1 molecule converted\n",
      "==============================\n",
      "*** Open Babel Error  in OpenAndSetFormat\n",
      "  Cannot open smi\n"
     ]
    },
    {
     "name": "stdout",
     "output_type": "stream",
     "text": [
      "4799\n"
     ]
    },
    {
     "name": "stderr",
     "output_type": "stream",
     "text": [
      "1 molecule converted\n",
      "==============================\n",
      "*** Open Babel Error  in OpenAndSetFormat\n",
      "  Cannot open smi\n"
     ]
    },
    {
     "name": "stdout",
     "output_type": "stream",
     "text": [
      "4800\n"
     ]
    },
    {
     "name": "stderr",
     "output_type": "stream",
     "text": [
      "1 molecule converted\n",
      "==============================\n",
      "*** Open Babel Error  in OpenAndSetFormat\n",
      "  Cannot open smi\n"
     ]
    },
    {
     "name": "stdout",
     "output_type": "stream",
     "text": [
      "4801\n"
     ]
    },
    {
     "name": "stderr",
     "output_type": "stream",
     "text": [
      "1 molecule converted\n",
      "==============================\n",
      "*** Open Babel Error  in OpenAndSetFormat\n",
      "  Cannot open smi\n"
     ]
    },
    {
     "name": "stdout",
     "output_type": "stream",
     "text": [
      "4802\n"
     ]
    },
    {
     "name": "stderr",
     "output_type": "stream",
     "text": [
      "1 molecule converted\n",
      "==============================\n",
      "*** Open Babel Error  in OpenAndSetFormat\n",
      "  Cannot open smi\n"
     ]
    },
    {
     "name": "stdout",
     "output_type": "stream",
     "text": [
      "4803\n"
     ]
    },
    {
     "name": "stderr",
     "output_type": "stream",
     "text": [
      "1 molecule converted\n",
      "==============================\n",
      "*** Open Babel Error  in OpenAndSetFormat\n",
      "  Cannot open smi\n"
     ]
    },
    {
     "name": "stdout",
     "output_type": "stream",
     "text": [
      "4804\n"
     ]
    },
    {
     "name": "stderr",
     "output_type": "stream",
     "text": [
      "1 molecule converted\n",
      "==============================\n",
      "*** Open Babel Error  in OpenAndSetFormat\n",
      "  Cannot open smi\n"
     ]
    },
    {
     "name": "stdout",
     "output_type": "stream",
     "text": [
      "4805\n"
     ]
    },
    {
     "name": "stderr",
     "output_type": "stream",
     "text": [
      "1 molecule converted\n",
      "==============================\n",
      "*** Open Babel Error  in OpenAndSetFormat\n",
      "  Cannot open smi\n"
     ]
    },
    {
     "name": "stdout",
     "output_type": "stream",
     "text": [
      "4806\n"
     ]
    },
    {
     "name": "stderr",
     "output_type": "stream",
     "text": [
      "1 molecule converted\n",
      "==============================\n",
      "*** Open Babel Error  in OpenAndSetFormat\n",
      "  Cannot open smi\n"
     ]
    },
    {
     "name": "stdout",
     "output_type": "stream",
     "text": [
      "4807\n",
      "4808\n"
     ]
    },
    {
     "name": "stderr",
     "output_type": "stream",
     "text": [
      "1 molecule converted\n",
      "==============================\n",
      "*** Open Babel Error  in OpenAndSetFormat\n",
      "  Cannot open smi\n",
      "1 molecule converted\n",
      "==============================\n",
      "*** Open Babel Error  in OpenAndSetFormat\n",
      "  Cannot open smi\n"
     ]
    },
    {
     "name": "stdout",
     "output_type": "stream",
     "text": [
      "4809\n"
     ]
    },
    {
     "name": "stderr",
     "output_type": "stream",
     "text": [
      "1 molecule converted\n",
      "==============================\n",
      "*** Open Babel Error  in OpenAndSetFormat\n",
      "  Cannot open smi\n"
     ]
    },
    {
     "name": "stdout",
     "output_type": "stream",
     "text": [
      "4810\n"
     ]
    },
    {
     "name": "stderr",
     "output_type": "stream",
     "text": [
      "1 molecule converted\n",
      "==============================\n",
      "*** Open Babel Error  in OpenAndSetFormat\n",
      "  Cannot open smi\n"
     ]
    },
    {
     "name": "stdout",
     "output_type": "stream",
     "text": [
      "4811\n"
     ]
    },
    {
     "name": "stderr",
     "output_type": "stream",
     "text": [
      "1 molecule converted\n",
      "==============================\n",
      "*** Open Babel Error  in OpenAndSetFormat\n",
      "  Cannot open smi\n"
     ]
    },
    {
     "name": "stdout",
     "output_type": "stream",
     "text": [
      "4812\n"
     ]
    },
    {
     "name": "stderr",
     "output_type": "stream",
     "text": [
      "1 molecule converted\n",
      "==============================\n",
      "*** Open Babel Error  in OpenAndSetFormat\n",
      "  Cannot open smi\n"
     ]
    },
    {
     "name": "stdout",
     "output_type": "stream",
     "text": [
      "4813\n"
     ]
    },
    {
     "name": "stderr",
     "output_type": "stream",
     "text": [
      "1 molecule converted\n",
      "==============================\n",
      "*** Open Babel Error  in OpenAndSetFormat\n",
      "  Cannot open smi\n"
     ]
    },
    {
     "name": "stdout",
     "output_type": "stream",
     "text": [
      "4814\n"
     ]
    },
    {
     "name": "stderr",
     "output_type": "stream",
     "text": [
      "1 molecule converted\n",
      "==============================\n",
      "*** Open Babel Error  in OpenAndSetFormat\n",
      "  Cannot open smi\n"
     ]
    },
    {
     "name": "stdout",
     "output_type": "stream",
     "text": [
      "4815\n"
     ]
    },
    {
     "name": "stderr",
     "output_type": "stream",
     "text": [
      "1 molecule converted\n",
      "==============================\n",
      "*** Open Babel Error  in OpenAndSetFormat\n",
      "  Cannot open smi\n"
     ]
    },
    {
     "name": "stdout",
     "output_type": "stream",
     "text": [
      "4816\n"
     ]
    },
    {
     "name": "stderr",
     "output_type": "stream",
     "text": [
      "1 molecule converted\n",
      "==============================\n",
      "*** Open Babel Error  in OpenAndSetFormat\n",
      "  Cannot open smi\n"
     ]
    },
    {
     "name": "stdout",
     "output_type": "stream",
     "text": [
      "4817\n"
     ]
    },
    {
     "name": "stderr",
     "output_type": "stream",
     "text": [
      "1 molecule converted\n",
      "==============================\n",
      "*** Open Babel Error  in OpenAndSetFormat\n",
      "  Cannot open smi\n"
     ]
    },
    {
     "name": "stdout",
     "output_type": "stream",
     "text": [
      "4818\n"
     ]
    },
    {
     "name": "stderr",
     "output_type": "stream",
     "text": [
      "1 molecule converted\n",
      "==============================\n",
      "*** Open Babel Error  in OpenAndSetFormat\n",
      "  Cannot open smi\n"
     ]
    },
    {
     "name": "stdout",
     "output_type": "stream",
     "text": [
      "4819\n"
     ]
    },
    {
     "name": "stderr",
     "output_type": "stream",
     "text": [
      "1 molecule converted\n",
      "==============================\n",
      "*** Open Babel Error  in OpenAndSetFormat\n",
      "  Cannot open smi\n"
     ]
    },
    {
     "name": "stdout",
     "output_type": "stream",
     "text": [
      "4820\n"
     ]
    },
    {
     "name": "stderr",
     "output_type": "stream",
     "text": [
      "1 molecule converted\n",
      "==============================\n",
      "*** Open Babel Error  in OpenAndSetFormat\n",
      "  Cannot open smi\n"
     ]
    },
    {
     "name": "stdout",
     "output_type": "stream",
     "text": [
      "4821\n"
     ]
    },
    {
     "name": "stderr",
     "output_type": "stream",
     "text": [
      "1 molecule converted\n",
      "==============================\n",
      "*** Open Babel Error  in OpenAndSetFormat\n",
      "  Cannot open smi\n"
     ]
    },
    {
     "name": "stdout",
     "output_type": "stream",
     "text": [
      "4822\n"
     ]
    },
    {
     "name": "stderr",
     "output_type": "stream",
     "text": [
      "1 molecule converted\n",
      "==============================\n",
      "*** Open Babel Error  in OpenAndSetFormat\n",
      "  Cannot open smi\n"
     ]
    },
    {
     "name": "stdout",
     "output_type": "stream",
     "text": [
      "4823\n"
     ]
    },
    {
     "name": "stderr",
     "output_type": "stream",
     "text": [
      "1 molecule converted\n",
      "==============================\n",
      "*** Open Babel Error  in OpenAndSetFormat\n",
      "  Cannot open smi\n"
     ]
    },
    {
     "name": "stdout",
     "output_type": "stream",
     "text": [
      "4824\n"
     ]
    },
    {
     "name": "stderr",
     "output_type": "stream",
     "text": [
      "1 molecule converted\n",
      "==============================\n",
      "*** Open Babel Error  in OpenAndSetFormat\n",
      "  Cannot open smi\n"
     ]
    },
    {
     "name": "stdout",
     "output_type": "stream",
     "text": [
      "4825\n"
     ]
    },
    {
     "name": "stderr",
     "output_type": "stream",
     "text": [
      "1 molecule converted\n",
      "==============================\n",
      "*** Open Babel Error  in OpenAndSetFormat\n",
      "  Cannot open smi\n"
     ]
    },
    {
     "name": "stdout",
     "output_type": "stream",
     "text": [
      "4826\n"
     ]
    },
    {
     "name": "stderr",
     "output_type": "stream",
     "text": [
      "1 molecule converted\n",
      "==============================\n",
      "*** Open Babel Error  in OpenAndSetFormat\n",
      "  Cannot open smi\n"
     ]
    },
    {
     "name": "stdout",
     "output_type": "stream",
     "text": [
      "4827\n"
     ]
    },
    {
     "name": "stderr",
     "output_type": "stream",
     "text": [
      "1 molecule converted\n",
      "==============================\n",
      "*** Open Babel Error  in OpenAndSetFormat\n",
      "  Cannot open smi\n"
     ]
    },
    {
     "name": "stdout",
     "output_type": "stream",
     "text": [
      "4828\n"
     ]
    },
    {
     "name": "stderr",
     "output_type": "stream",
     "text": [
      "==============================\n",
      "*** Open Babel Warning  in CorrectStereoAtoms\n",
      "  Could not correct 5 stereocenter(s) in this molecule ()\n",
      "  with Atom Ids as follows: 5 6 15 22 28\n",
      "Warning: Stereochemistry is wrong, using the distance geometry method instead\n",
      "1 molecule converted\n",
      "==============================\n",
      "*** Open Babel Error  in OpenAndSetFormat\n",
      "  Cannot open smi\n"
     ]
    },
    {
     "name": "stdout",
     "output_type": "stream",
     "text": [
      "4829\n"
     ]
    },
    {
     "name": "stderr",
     "output_type": "stream",
     "text": [
      "1 molecule converted\n",
      "==============================\n",
      "*** Open Babel Error  in OpenAndSetFormat\n",
      "  Cannot open smi\n"
     ]
    },
    {
     "name": "stdout",
     "output_type": "stream",
     "text": [
      "4830\n"
     ]
    },
    {
     "name": "stderr",
     "output_type": "stream",
     "text": [
      "1 molecule converted\n",
      "==============================\n",
      "*** Open Babel Error  in OpenAndSetFormat\n",
      "  Cannot open smi\n"
     ]
    },
    {
     "name": "stdout",
     "output_type": "stream",
     "text": [
      "4831\n"
     ]
    },
    {
     "name": "stderr",
     "output_type": "stream",
     "text": [
      "1 molecule converted\n",
      "==============================\n",
      "*** Open Babel Error  in OpenAndSetFormat\n",
      "  Cannot open smi\n"
     ]
    },
    {
     "name": "stdout",
     "output_type": "stream",
     "text": [
      "4832\n"
     ]
    },
    {
     "name": "stderr",
     "output_type": "stream",
     "text": [
      "1 molecule converted\n",
      "==============================\n",
      "*** Open Babel Error  in OpenAndSetFormat\n",
      "  Cannot open smi\n"
     ]
    },
    {
     "name": "stdout",
     "output_type": "stream",
     "text": [
      "4833\n"
     ]
    },
    {
     "name": "stderr",
     "output_type": "stream",
     "text": [
      "1 molecule converted\n",
      "==============================\n",
      "*** Open Babel Error  in OpenAndSetFormat\n",
      "  Cannot open smi\n"
     ]
    },
    {
     "name": "stdout",
     "output_type": "stream",
     "text": [
      "4834\n"
     ]
    },
    {
     "name": "stderr",
     "output_type": "stream",
     "text": [
      "1 molecule converted\n",
      "==============================\n",
      "*** Open Babel Error  in OpenAndSetFormat\n",
      "  Cannot open smi\n"
     ]
    },
    {
     "name": "stdout",
     "output_type": "stream",
     "text": [
      "4835\n"
     ]
    },
    {
     "name": "stderr",
     "output_type": "stream",
     "text": [
      "1 molecule converted\n",
      "==============================\n",
      "*** Open Babel Error  in OpenAndSetFormat\n",
      "  Cannot open smi\n"
     ]
    },
    {
     "name": "stdout",
     "output_type": "stream",
     "text": [
      "4836\n"
     ]
    },
    {
     "name": "stderr",
     "output_type": "stream",
     "text": [
      "1 molecule converted\n",
      "==============================\n",
      "*** Open Babel Error  in OpenAndSetFormat\n",
      "  Cannot open smi\n"
     ]
    },
    {
     "name": "stdout",
     "output_type": "stream",
     "text": [
      "4837\n"
     ]
    },
    {
     "name": "stderr",
     "output_type": "stream",
     "text": [
      "1 molecule converted\n",
      "==============================\n",
      "*** Open Babel Error  in OpenAndSetFormat\n",
      "  Cannot open smi\n"
     ]
    },
    {
     "name": "stdout",
     "output_type": "stream",
     "text": [
      "4838\n"
     ]
    },
    {
     "name": "stderr",
     "output_type": "stream",
     "text": [
      "1 molecule converted\n",
      "==============================\n",
      "*** Open Babel Error  in OpenAndSetFormat\n",
      "  Cannot open smi\n"
     ]
    },
    {
     "name": "stdout",
     "output_type": "stream",
     "text": [
      "4839\n"
     ]
    },
    {
     "name": "stderr",
     "output_type": "stream",
     "text": [
      "1 molecule converted\n",
      "==============================\n",
      "*** Open Babel Error  in OpenAndSetFormat\n",
      "  Cannot open smi\n"
     ]
    },
    {
     "name": "stdout",
     "output_type": "stream",
     "text": [
      "4840\n"
     ]
    },
    {
     "name": "stderr",
     "output_type": "stream",
     "text": [
      "1 molecule converted\n",
      "==============================\n",
      "*** Open Babel Error  in OpenAndSetFormat\n",
      "  Cannot open smi\n"
     ]
    },
    {
     "name": "stdout",
     "output_type": "stream",
     "text": [
      "4841\n"
     ]
    },
    {
     "name": "stderr",
     "output_type": "stream",
     "text": [
      "1 molecule converted\n",
      "==============================\n",
      "*** Open Babel Error  in OpenAndSetFormat\n",
      "  Cannot open smi\n"
     ]
    },
    {
     "name": "stdout",
     "output_type": "stream",
     "text": [
      "4842\n"
     ]
    },
    {
     "name": "stderr",
     "output_type": "stream",
     "text": [
      "1 molecule converted\n",
      "==============================\n",
      "*** Open Babel Error  in OpenAndSetFormat\n",
      "  Cannot open smi\n"
     ]
    },
    {
     "name": "stdout",
     "output_type": "stream",
     "text": [
      "4843\n"
     ]
    },
    {
     "name": "stderr",
     "output_type": "stream",
     "text": [
      "1 molecule converted\n",
      "==============================\n",
      "*** Open Babel Error  in OpenAndSetFormat\n",
      "  Cannot open smi\n"
     ]
    },
    {
     "name": "stdout",
     "output_type": "stream",
     "text": [
      "4844\n"
     ]
    },
    {
     "name": "stderr",
     "output_type": "stream",
     "text": [
      "1 molecule converted\n",
      "==============================\n",
      "*** Open Babel Error  in OpenAndSetFormat\n",
      "  Cannot open smi\n"
     ]
    },
    {
     "name": "stdout",
     "output_type": "stream",
     "text": [
      "4845\n"
     ]
    },
    {
     "name": "stderr",
     "output_type": "stream",
     "text": [
      "1 molecule converted\n",
      "==============================\n",
      "*** Open Babel Error  in OpenAndSetFormat\n",
      "  Cannot open smi\n"
     ]
    },
    {
     "name": "stdout",
     "output_type": "stream",
     "text": [
      "4846\n"
     ]
    },
    {
     "name": "stderr",
     "output_type": "stream",
     "text": [
      "1 molecule converted\n",
      "==============================\n",
      "*** Open Babel Error  in OpenAndSetFormat\n",
      "  Cannot open smi\n"
     ]
    },
    {
     "name": "stdout",
     "output_type": "stream",
     "text": [
      "4847\n"
     ]
    },
    {
     "name": "stderr",
     "output_type": "stream",
     "text": [
      "1 molecule converted\n",
      "==============================\n",
      "*** Open Babel Error  in OpenAndSetFormat\n",
      "  Cannot open smi\n"
     ]
    },
    {
     "name": "stdout",
     "output_type": "stream",
     "text": [
      "4848\n"
     ]
    },
    {
     "name": "stderr",
     "output_type": "stream",
     "text": [
      "1 molecule converted\n",
      "==============================\n",
      "*** Open Babel Error  in OpenAndSetFormat\n",
      "  Cannot open smi\n"
     ]
    },
    {
     "name": "stdout",
     "output_type": "stream",
     "text": [
      "4849\n"
     ]
    },
    {
     "name": "stderr",
     "output_type": "stream",
     "text": [
      "1 molecule converted\n",
      "==============================\n",
      "*** Open Babel Error  in OpenAndSetFormat\n",
      "  Cannot open smi\n"
     ]
    },
    {
     "name": "stdout",
     "output_type": "stream",
     "text": [
      "4850\n"
     ]
    },
    {
     "name": "stderr",
     "output_type": "stream",
     "text": [
      "1 molecule converted\n",
      "==============================\n",
      "*** Open Babel Error  in OpenAndSetFormat\n",
      "  Cannot open smi\n"
     ]
    },
    {
     "name": "stdout",
     "output_type": "stream",
     "text": [
      "4851\n"
     ]
    },
    {
     "name": "stderr",
     "output_type": "stream",
     "text": [
      "1 molecule converted\n",
      "==============================\n",
      "*** Open Babel Error  in OpenAndSetFormat\n",
      "  Cannot open smi\n"
     ]
    },
    {
     "name": "stdout",
     "output_type": "stream",
     "text": [
      "4852\n"
     ]
    },
    {
     "name": "stderr",
     "output_type": "stream",
     "text": [
      "1 molecule converted\n",
      "==============================\n",
      "*** Open Babel Error  in OpenAndSetFormat\n",
      "  Cannot open smi\n"
     ]
    },
    {
     "name": "stdout",
     "output_type": "stream",
     "text": [
      "4853\n"
     ]
    },
    {
     "name": "stderr",
     "output_type": "stream",
     "text": [
      "1 molecule converted\n",
      "==============================\n",
      "*** Open Babel Error  in OpenAndSetFormat\n",
      "  Cannot open smi\n"
     ]
    },
    {
     "name": "stdout",
     "output_type": "stream",
     "text": [
      "4854\n"
     ]
    },
    {
     "name": "stderr",
     "output_type": "stream",
     "text": [
      "1 molecule converted\n",
      "==============================\n",
      "*** Open Babel Error  in OpenAndSetFormat\n",
      "  Cannot open smi\n"
     ]
    },
    {
     "name": "stdout",
     "output_type": "stream",
     "text": [
      "4855\n"
     ]
    },
    {
     "name": "stderr",
     "output_type": "stream",
     "text": [
      "1 molecule converted\n",
      "==============================\n",
      "*** Open Babel Error  in OpenAndSetFormat\n",
      "  Cannot open smi\n"
     ]
    },
    {
     "name": "stdout",
     "output_type": "stream",
     "text": [
      "4856\n"
     ]
    },
    {
     "name": "stderr",
     "output_type": "stream",
     "text": [
      "1 molecule converted\n",
      "==============================\n",
      "*** Open Babel Error  in OpenAndSetFormat\n",
      "  Cannot open smi\n"
     ]
    },
    {
     "name": "stdout",
     "output_type": "stream",
     "text": [
      "4857\n"
     ]
    },
    {
     "name": "stderr",
     "output_type": "stream",
     "text": [
      "1 molecule converted\n",
      "==============================\n",
      "*** Open Babel Error  in OpenAndSetFormat\n",
      "  Cannot open smi\n"
     ]
    },
    {
     "name": "stdout",
     "output_type": "stream",
     "text": [
      "4858\n"
     ]
    },
    {
     "name": "stderr",
     "output_type": "stream",
     "text": [
      "1 molecule converted\n",
      "==============================\n",
      "*** Open Babel Error  in OpenAndSetFormat\n",
      "  Cannot open smi\n"
     ]
    },
    {
     "name": "stdout",
     "output_type": "stream",
     "text": [
      "4859\n"
     ]
    },
    {
     "name": "stderr",
     "output_type": "stream",
     "text": [
      "1 molecule converted\n",
      "==============================\n",
      "*** Open Babel Error  in OpenAndSetFormat\n",
      "  Cannot open smi\n"
     ]
    },
    {
     "name": "stdout",
     "output_type": "stream",
     "text": [
      "4860\n"
     ]
    },
    {
     "name": "stderr",
     "output_type": "stream",
     "text": [
      "1 molecule converted\n",
      "==============================\n",
      "*** Open Babel Error  in OpenAndSetFormat\n",
      "  Cannot open smi\n"
     ]
    },
    {
     "name": "stdout",
     "output_type": "stream",
     "text": [
      "4861\n"
     ]
    },
    {
     "name": "stderr",
     "output_type": "stream",
     "text": [
      "1 molecule converted\n",
      "==============================\n",
      "*** Open Babel Error  in OpenAndSetFormat\n",
      "  Cannot open smi\n"
     ]
    },
    {
     "name": "stdout",
     "output_type": "stream",
     "text": [
      "4862\n"
     ]
    },
    {
     "name": "stderr",
     "output_type": "stream",
     "text": [
      "1 molecule converted\n",
      "==============================\n",
      "*** Open Babel Error  in OpenAndSetFormat\n",
      "  Cannot open smi\n"
     ]
    },
    {
     "name": "stdout",
     "output_type": "stream",
     "text": [
      "4863\n"
     ]
    },
    {
     "name": "stderr",
     "output_type": "stream",
     "text": [
      "1 molecule converted\n",
      "==============================\n",
      "*** Open Babel Error  in OpenAndSetFormat\n",
      "  Cannot open smi\n"
     ]
    },
    {
     "name": "stdout",
     "output_type": "stream",
     "text": [
      "4864\n"
     ]
    },
    {
     "name": "stderr",
     "output_type": "stream",
     "text": [
      "1 molecule converted\n",
      "==============================\n",
      "*** Open Babel Error  in OpenAndSetFormat\n",
      "  Cannot open smi\n"
     ]
    },
    {
     "name": "stdout",
     "output_type": "stream",
     "text": [
      "4865\n"
     ]
    },
    {
     "name": "stderr",
     "output_type": "stream",
     "text": [
      "1 molecule converted\n",
      "==============================\n",
      "*** Open Babel Error  in OpenAndSetFormat\n",
      "  Cannot open smi\n"
     ]
    },
    {
     "name": "stdout",
     "output_type": "stream",
     "text": [
      "4866\n"
     ]
    },
    {
     "name": "stderr",
     "output_type": "stream",
     "text": [
      "1 molecule converted\n",
      "==============================\n",
      "*** Open Babel Error  in OpenAndSetFormat\n",
      "  Cannot open smi\n"
     ]
    },
    {
     "name": "stdout",
     "output_type": "stream",
     "text": [
      "4867\n"
     ]
    },
    {
     "name": "stderr",
     "output_type": "stream",
     "text": [
      "1 molecule converted\n",
      "==============================\n",
      "*** Open Babel Error  in OpenAndSetFormat\n",
      "  Cannot open smi\n"
     ]
    },
    {
     "name": "stdout",
     "output_type": "stream",
     "text": [
      "4868\n"
     ]
    },
    {
     "name": "stderr",
     "output_type": "stream",
     "text": [
      "1 molecule converted\n",
      "==============================\n",
      "*** Open Babel Error  in OpenAndSetFormat\n",
      "  Cannot open smi\n"
     ]
    },
    {
     "name": "stdout",
     "output_type": "stream",
     "text": [
      "4869\n"
     ]
    },
    {
     "name": "stderr",
     "output_type": "stream",
     "text": [
      "1 molecule converted\n",
      "==============================\n",
      "*** Open Babel Error  in OpenAndSetFormat\n",
      "  Cannot open smi\n"
     ]
    },
    {
     "name": "stdout",
     "output_type": "stream",
     "text": [
      "4870\n"
     ]
    },
    {
     "name": "stderr",
     "output_type": "stream",
     "text": [
      "1 molecule converted\n",
      "==============================\n",
      "*** Open Babel Error  in OpenAndSetFormat\n",
      "  Cannot open smi\n"
     ]
    },
    {
     "name": "stdout",
     "output_type": "stream",
     "text": [
      "4871\n"
     ]
    },
    {
     "name": "stderr",
     "output_type": "stream",
     "text": [
      "1 molecule converted\n",
      "==============================\n",
      "*** Open Babel Error  in OpenAndSetFormat\n",
      "  Cannot open smi\n"
     ]
    },
    {
     "name": "stdout",
     "output_type": "stream",
     "text": [
      "4872\n",
      "4873\n"
     ]
    },
    {
     "name": "stderr",
     "output_type": "stream",
     "text": [
      "1 molecule converted\n",
      "==============================\n",
      "*** Open Babel Error  in OpenAndSetFormat\n",
      "  Cannot open smi\n",
      "1 molecule converted\n",
      "==============================\n",
      "*** Open Babel Error  in OpenAndSetFormat\n",
      "  Cannot open smi\n"
     ]
    },
    {
     "name": "stdout",
     "output_type": "stream",
     "text": [
      "4874\n"
     ]
    },
    {
     "name": "stderr",
     "output_type": "stream",
     "text": [
      "1 molecule converted\n",
      "==============================\n",
      "*** Open Babel Error  in OpenAndSetFormat\n",
      "  Cannot open smi\n"
     ]
    },
    {
     "name": "stdout",
     "output_type": "stream",
     "text": [
      "4875\n"
     ]
    },
    {
     "name": "stderr",
     "output_type": "stream",
     "text": [
      "1 molecule converted\n",
      "==============================\n",
      "*** Open Babel Error  in OpenAndSetFormat\n",
      "  Cannot open smi\n"
     ]
    },
    {
     "name": "stdout",
     "output_type": "stream",
     "text": [
      "4876\n"
     ]
    },
    {
     "name": "stderr",
     "output_type": "stream",
     "text": [
      "==============================\n",
      "*** Open Babel Warning  in CorrectStereoAtoms\n",
      "  Could not correct 1 stereocenter(s) in this molecule ()\n",
      "  with Atom Ids as follows: 18\n",
      "Warning: Stereochemistry is wrong, using the distance geometry method instead\n",
      "1 molecule converted\n",
      "==============================\n",
      "*** Open Babel Error  in OpenAndSetFormat\n",
      "  Cannot open smi\n"
     ]
    },
    {
     "name": "stdout",
     "output_type": "stream",
     "text": [
      "4877\n"
     ]
    },
    {
     "name": "stderr",
     "output_type": "stream",
     "text": [
      "1 molecule converted\n",
      "==============================\n",
      "*** Open Babel Error  in OpenAndSetFormat\n",
      "  Cannot open smi\n"
     ]
    },
    {
     "name": "stdout",
     "output_type": "stream",
     "text": [
      "4878\n"
     ]
    },
    {
     "name": "stderr",
     "output_type": "stream",
     "text": [
      "1 molecule converted\n",
      "==============================\n",
      "*** Open Babel Error  in OpenAndSetFormat\n",
      "  Cannot open smi\n"
     ]
    },
    {
     "name": "stdout",
     "output_type": "stream",
     "text": [
      "4879\n"
     ]
    },
    {
     "name": "stderr",
     "output_type": "stream",
     "text": [
      "1 molecule converted\n",
      "==============================\n",
      "*** Open Babel Error  in OpenAndSetFormat\n",
      "  Cannot open smi\n"
     ]
    },
    {
     "name": "stdout",
     "output_type": "stream",
     "text": [
      "4880\n"
     ]
    },
    {
     "name": "stderr",
     "output_type": "stream",
     "text": [
      "1 molecule converted\n",
      "==============================\n",
      "*** Open Babel Error  in OpenAndSetFormat\n",
      "  Cannot open smi\n"
     ]
    },
    {
     "name": "stdout",
     "output_type": "stream",
     "text": [
      "4881\n"
     ]
    },
    {
     "name": "stderr",
     "output_type": "stream",
     "text": [
      "1 molecule converted\n",
      "==============================\n",
      "*** Open Babel Error  in OpenAndSetFormat\n",
      "  Cannot open smi\n"
     ]
    },
    {
     "name": "stdout",
     "output_type": "stream",
     "text": [
      "4882\n"
     ]
    },
    {
     "name": "stderr",
     "output_type": "stream",
     "text": [
      "1 molecule converted\n",
      "==============================\n",
      "*** Open Babel Error  in OpenAndSetFormat\n",
      "  Cannot open smi\n"
     ]
    },
    {
     "name": "stdout",
     "output_type": "stream",
     "text": [
      "4883\n"
     ]
    },
    {
     "name": "stderr",
     "output_type": "stream",
     "text": [
      "1 molecule converted\n",
      "==============================\n",
      "*** Open Babel Error  in OpenAndSetFormat\n",
      "  Cannot open smi\n"
     ]
    },
    {
     "name": "stdout",
     "output_type": "stream",
     "text": [
      "4884\n"
     ]
    },
    {
     "name": "stderr",
     "output_type": "stream",
     "text": [
      "1 molecule converted\n",
      "==============================\n",
      "*** Open Babel Error  in OpenAndSetFormat\n",
      "  Cannot open smi\n"
     ]
    },
    {
     "name": "stdout",
     "output_type": "stream",
     "text": [
      "4885\n"
     ]
    },
    {
     "name": "stderr",
     "output_type": "stream",
     "text": [
      "1 molecule converted\n",
      "==============================\n",
      "*** Open Babel Error  in OpenAndSetFormat\n",
      "  Cannot open smi\n"
     ]
    },
    {
     "name": "stdout",
     "output_type": "stream",
     "text": [
      "4886\n"
     ]
    },
    {
     "name": "stderr",
     "output_type": "stream",
     "text": [
      "1 molecule converted\n",
      "==============================\n",
      "*** Open Babel Error  in OpenAndSetFormat\n",
      "  Cannot open smi\n"
     ]
    },
    {
     "name": "stdout",
     "output_type": "stream",
     "text": [
      "4887\n"
     ]
    },
    {
     "name": "stderr",
     "output_type": "stream",
     "text": [
      "1 molecule converted\n",
      "==============================\n",
      "*** Open Babel Error  in OpenAndSetFormat\n",
      "  Cannot open smi\n"
     ]
    },
    {
     "name": "stdout",
     "output_type": "stream",
     "text": [
      "4888\n"
     ]
    },
    {
     "name": "stderr",
     "output_type": "stream",
     "text": [
      "1 molecule converted\n",
      "==============================\n",
      "*** Open Babel Error  in OpenAndSetFormat\n",
      "  Cannot open smi\n"
     ]
    },
    {
     "name": "stdout",
     "output_type": "stream",
     "text": [
      "4889\n"
     ]
    },
    {
     "name": "stderr",
     "output_type": "stream",
     "text": [
      "1 molecule converted\n",
      "==============================\n",
      "*** Open Babel Error  in OpenAndSetFormat\n",
      "  Cannot open smi\n"
     ]
    },
    {
     "name": "stdout",
     "output_type": "stream",
     "text": [
      "4890\n"
     ]
    },
    {
     "name": "stderr",
     "output_type": "stream",
     "text": [
      "1 molecule converted\n",
      "==============================\n",
      "*** Open Babel Error  in OpenAndSetFormat\n",
      "  Cannot open smi\n"
     ]
    },
    {
     "name": "stdout",
     "output_type": "stream",
     "text": [
      "4891\n"
     ]
    },
    {
     "name": "stderr",
     "output_type": "stream",
     "text": [
      "1 molecule converted\n",
      "==============================\n",
      "*** Open Babel Error  in OpenAndSetFormat\n",
      "  Cannot open smi\n"
     ]
    },
    {
     "name": "stdout",
     "output_type": "stream",
     "text": [
      "4892\n"
     ]
    },
    {
     "name": "stderr",
     "output_type": "stream",
     "text": [
      "==============================\n",
      "*** Open Babel Warning  in CorrectStereoAtoms\n",
      "  Could not correct 1 stereocenter(s) in this molecule ()\n",
      "  with Atom Ids as follows: 16\n",
      "Warning: Stereochemistry is wrong, using the distance geometry method instead\n",
      "1 molecule converted\n",
      "==============================\n",
      "*** Open Babel Error  in OpenAndSetFormat\n",
      "  Cannot open smi\n"
     ]
    },
    {
     "name": "stdout",
     "output_type": "stream",
     "text": [
      "4893\n"
     ]
    },
    {
     "name": "stderr",
     "output_type": "stream",
     "text": [
      "1 molecule converted\n",
      "==============================\n",
      "*** Open Babel Error  in OpenAndSetFormat\n",
      "  Cannot open smi\n"
     ]
    },
    {
     "name": "stdout",
     "output_type": "stream",
     "text": [
      "4894\n"
     ]
    },
    {
     "name": "stderr",
     "output_type": "stream",
     "text": [
      "1 molecule converted\n",
      "==============================\n",
      "*** Open Babel Error  in OpenAndSetFormat\n",
      "  Cannot open smi\n"
     ]
    },
    {
     "name": "stdout",
     "output_type": "stream",
     "text": [
      "4895\n"
     ]
    },
    {
     "name": "stderr",
     "output_type": "stream",
     "text": [
      "1 molecule converted\n",
      "==============================\n",
      "*** Open Babel Error  in OpenAndSetFormat\n",
      "  Cannot open smi\n"
     ]
    },
    {
     "name": "stdout",
     "output_type": "stream",
     "text": [
      "4896\n"
     ]
    },
    {
     "name": "stderr",
     "output_type": "stream",
     "text": [
      "1 molecule converted\n",
      "==============================\n",
      "*** Open Babel Error  in OpenAndSetFormat\n",
      "  Cannot open smi\n"
     ]
    },
    {
     "name": "stdout",
     "output_type": "stream",
     "text": [
      "4897\n"
     ]
    },
    {
     "name": "stderr",
     "output_type": "stream",
     "text": [
      "1 molecule converted\n",
      "==============================\n",
      "*** Open Babel Error  in OpenAndSetFormat\n",
      "  Cannot open smi\n"
     ]
    },
    {
     "name": "stdout",
     "output_type": "stream",
     "text": [
      "4898\n"
     ]
    },
    {
     "name": "stderr",
     "output_type": "stream",
     "text": [
      "1 molecule converted\n",
      "==============================\n",
      "*** Open Babel Error  in OpenAndSetFormat\n",
      "  Cannot open smi\n"
     ]
    },
    {
     "name": "stdout",
     "output_type": "stream",
     "text": [
      "4899\n"
     ]
    },
    {
     "name": "stderr",
     "output_type": "stream",
     "text": [
      "1 molecule converted\n",
      "==============================\n",
      "*** Open Babel Error  in OpenAndSetFormat\n",
      "  Cannot open smi\n"
     ]
    },
    {
     "name": "stdout",
     "output_type": "stream",
     "text": [
      "4900\n"
     ]
    },
    {
     "name": "stderr",
     "output_type": "stream",
     "text": [
      "1 molecule converted\n",
      "==============================\n",
      "*** Open Babel Error  in OpenAndSetFormat\n",
      "  Cannot open smi\n"
     ]
    },
    {
     "name": "stdout",
     "output_type": "stream",
     "text": [
      "4901\n"
     ]
    },
    {
     "name": "stderr",
     "output_type": "stream",
     "text": [
      "1 molecule converted\n",
      "==============================\n",
      "*** Open Babel Error  in OpenAndSetFormat\n",
      "  Cannot open smi\n"
     ]
    },
    {
     "name": "stdout",
     "output_type": "stream",
     "text": [
      "4902\n"
     ]
    },
    {
     "name": "stderr",
     "output_type": "stream",
     "text": [
      "1 molecule converted\n",
      "==============================\n",
      "*** Open Babel Error  in OpenAndSetFormat\n",
      "  Cannot open smi\n"
     ]
    },
    {
     "name": "stdout",
     "output_type": "stream",
     "text": [
      "4903\n"
     ]
    },
    {
     "name": "stderr",
     "output_type": "stream",
     "text": [
      "1 molecule converted\n",
      "==============================\n",
      "*** Open Babel Error  in OpenAndSetFormat\n",
      "  Cannot open smi\n"
     ]
    },
    {
     "name": "stdout",
     "output_type": "stream",
     "text": [
      "4904\n"
     ]
    },
    {
     "name": "stderr",
     "output_type": "stream",
     "text": [
      "1 molecule converted\n",
      "==============================\n",
      "*** Open Babel Error  in OpenAndSetFormat\n",
      "  Cannot open smi\n"
     ]
    },
    {
     "name": "stdout",
     "output_type": "stream",
     "text": [
      "4905\n"
     ]
    },
    {
     "name": "stderr",
     "output_type": "stream",
     "text": [
      "1 molecule converted\n",
      "==============================\n",
      "*** Open Babel Error  in OpenAndSetFormat\n",
      "  Cannot open smi\n"
     ]
    },
    {
     "name": "stdout",
     "output_type": "stream",
     "text": [
      "4906\n"
     ]
    },
    {
     "name": "stderr",
     "output_type": "stream",
     "text": [
      "1 molecule converted\n",
      "==============================\n",
      "*** Open Babel Error  in OpenAndSetFormat\n",
      "  Cannot open smi\n"
     ]
    },
    {
     "name": "stdout",
     "output_type": "stream",
     "text": [
      "4907\n"
     ]
    },
    {
     "name": "stderr",
     "output_type": "stream",
     "text": [
      "1 molecule converted\n",
      "==============================\n",
      "*** Open Babel Error  in OpenAndSetFormat\n",
      "  Cannot open smi\n"
     ]
    },
    {
     "name": "stdout",
     "output_type": "stream",
     "text": [
      "4908\n"
     ]
    },
    {
     "name": "stderr",
     "output_type": "stream",
     "text": [
      "1 molecule converted\n",
      "==============================\n",
      "*** Open Babel Error  in OpenAndSetFormat\n",
      "  Cannot open smi\n"
     ]
    },
    {
     "name": "stdout",
     "output_type": "stream",
     "text": [
      "4909\n"
     ]
    },
    {
     "name": "stderr",
     "output_type": "stream",
     "text": [
      "1 molecule converted\n",
      "==============================\n",
      "*** Open Babel Error  in OpenAndSetFormat\n",
      "  Cannot open smi\n"
     ]
    },
    {
     "name": "stdout",
     "output_type": "stream",
     "text": [
      "4910\n"
     ]
    },
    {
     "name": "stderr",
     "output_type": "stream",
     "text": [
      "1 molecule converted\n",
      "==============================\n",
      "*** Open Babel Error  in OpenAndSetFormat\n",
      "  Cannot open smi\n"
     ]
    },
    {
     "name": "stdout",
     "output_type": "stream",
     "text": [
      "4911\n"
     ]
    },
    {
     "name": "stderr",
     "output_type": "stream",
     "text": [
      "1 molecule converted\n",
      "==============================\n",
      "*** Open Babel Error  in OpenAndSetFormat\n",
      "  Cannot open smi\n"
     ]
    },
    {
     "name": "stdout",
     "output_type": "stream",
     "text": [
      "4912\n"
     ]
    },
    {
     "name": "stderr",
     "output_type": "stream",
     "text": [
      "1 molecule converted\n",
      "==============================\n",
      "*** Open Babel Error  in OpenAndSetFormat\n",
      "  Cannot open smi\n"
     ]
    },
    {
     "name": "stdout",
     "output_type": "stream",
     "text": [
      "4913\n"
     ]
    },
    {
     "name": "stderr",
     "output_type": "stream",
     "text": [
      "1 molecule converted\n",
      "==============================\n",
      "*** Open Babel Error  in OpenAndSetFormat\n",
      "  Cannot open smi\n"
     ]
    },
    {
     "name": "stdout",
     "output_type": "stream",
     "text": [
      "4914\n"
     ]
    },
    {
     "name": "stderr",
     "output_type": "stream",
     "text": [
      "1 molecule converted\n",
      "==============================\n",
      "*** Open Babel Error  in OpenAndSetFormat\n",
      "  Cannot open smi\n"
     ]
    },
    {
     "name": "stdout",
     "output_type": "stream",
     "text": [
      "4915\n",
      "4916\n"
     ]
    },
    {
     "name": "stderr",
     "output_type": "stream",
     "text": [
      "1 molecule converted\n",
      "==============================\n",
      "*** Open Babel Error  in OpenAndSetFormat\n",
      "  Cannot open smi\n",
      "1 molecule converted\n",
      "==============================\n",
      "*** Open Babel Error  in OpenAndSetFormat\n",
      "  Cannot open smi\n"
     ]
    },
    {
     "name": "stdout",
     "output_type": "stream",
     "text": [
      "4917\n"
     ]
    },
    {
     "name": "stderr",
     "output_type": "stream",
     "text": [
      "1 molecule converted\n",
      "==============================\n",
      "*** Open Babel Error  in OpenAndSetFormat\n",
      "  Cannot open smi\n"
     ]
    },
    {
     "name": "stdout",
     "output_type": "stream",
     "text": [
      "4918\n"
     ]
    },
    {
     "name": "stderr",
     "output_type": "stream",
     "text": [
      "1 molecule converted\n",
      "==============================\n",
      "*** Open Babel Error  in OpenAndSetFormat\n",
      "  Cannot open smi\n"
     ]
    },
    {
     "name": "stdout",
     "output_type": "stream",
     "text": [
      "4919\n"
     ]
    },
    {
     "name": "stderr",
     "output_type": "stream",
     "text": [
      "1 molecule converted\n",
      "==============================\n",
      "*** Open Babel Error  in OpenAndSetFormat\n",
      "  Cannot open smi\n"
     ]
    },
    {
     "name": "stdout",
     "output_type": "stream",
     "text": [
      "4920\n"
     ]
    },
    {
     "name": "stderr",
     "output_type": "stream",
     "text": [
      "1 molecule converted\n",
      "==============================\n",
      "*** Open Babel Error  in OpenAndSetFormat\n",
      "  Cannot open smi\n"
     ]
    },
    {
     "name": "stdout",
     "output_type": "stream",
     "text": [
      "4921\n"
     ]
    },
    {
     "name": "stderr",
     "output_type": "stream",
     "text": [
      "1 molecule converted\n",
      "==============================\n",
      "*** Open Babel Error  in OpenAndSetFormat\n",
      "  Cannot open smi\n"
     ]
    },
    {
     "name": "stdout",
     "output_type": "stream",
     "text": [
      "4922\n"
     ]
    },
    {
     "name": "stderr",
     "output_type": "stream",
     "text": [
      "1 molecule converted\n",
      "==============================\n",
      "*** Open Babel Error  in OpenAndSetFormat\n",
      "  Cannot open smi\n"
     ]
    },
    {
     "name": "stdout",
     "output_type": "stream",
     "text": [
      "4923\n"
     ]
    },
    {
     "name": "stderr",
     "output_type": "stream",
     "text": [
      "1 molecule converted\n",
      "==============================\n",
      "*** Open Babel Error  in OpenAndSetFormat\n",
      "  Cannot open smi\n"
     ]
    },
    {
     "name": "stdout",
     "output_type": "stream",
     "text": [
      "4924\n"
     ]
    },
    {
     "name": "stderr",
     "output_type": "stream",
     "text": [
      "1 molecule converted\n",
      "==============================\n",
      "*** Open Babel Error  in OpenAndSetFormat\n",
      "  Cannot open smi\n"
     ]
    },
    {
     "name": "stdout",
     "output_type": "stream",
     "text": [
      "4925\n"
     ]
    },
    {
     "name": "stderr",
     "output_type": "stream",
     "text": [
      "1 molecule converted\n",
      "==============================\n",
      "*** Open Babel Error  in OpenAndSetFormat\n",
      "  Cannot open smi\n"
     ]
    },
    {
     "name": "stdout",
     "output_type": "stream",
     "text": [
      "4926\n"
     ]
    },
    {
     "name": "stderr",
     "output_type": "stream",
     "text": [
      "1 molecule converted\n",
      "==============================\n",
      "*** Open Babel Error  in OpenAndSetFormat\n",
      "  Cannot open smi\n"
     ]
    },
    {
     "name": "stdout",
     "output_type": "stream",
     "text": [
      "4927\n"
     ]
    },
    {
     "name": "stderr",
     "output_type": "stream",
     "text": [
      "1 molecule converted\n",
      "==============================\n",
      "*** Open Babel Error  in OpenAndSetFormat\n",
      "  Cannot open smi\n"
     ]
    },
    {
     "name": "stdout",
     "output_type": "stream",
     "text": [
      "4928\n"
     ]
    },
    {
     "name": "stderr",
     "output_type": "stream",
     "text": [
      "1 molecule converted\n",
      "==============================\n",
      "*** Open Babel Error  in OpenAndSetFormat\n",
      "  Cannot open smi\n"
     ]
    },
    {
     "name": "stdout",
     "output_type": "stream",
     "text": [
      "4929\n"
     ]
    },
    {
     "name": "stderr",
     "output_type": "stream",
     "text": [
      "1 molecule converted\n",
      "==============================\n",
      "*** Open Babel Error  in OpenAndSetFormat\n",
      "  Cannot open smi\n"
     ]
    },
    {
     "name": "stdout",
     "output_type": "stream",
     "text": [
      "4930\n"
     ]
    },
    {
     "name": "stderr",
     "output_type": "stream",
     "text": [
      "1 molecule converted\n",
      "==============================\n",
      "*** Open Babel Error  in OpenAndSetFormat\n",
      "  Cannot open smi\n"
     ]
    },
    {
     "name": "stdout",
     "output_type": "stream",
     "text": [
      "4931\n"
     ]
    },
    {
     "name": "stderr",
     "output_type": "stream",
     "text": [
      "1 molecule converted\n",
      "==============================\n",
      "*** Open Babel Error  in OpenAndSetFormat\n",
      "  Cannot open smi\n"
     ]
    },
    {
     "name": "stdout",
     "output_type": "stream",
     "text": [
      "4932\n"
     ]
    },
    {
     "name": "stderr",
     "output_type": "stream",
     "text": [
      "1 molecule converted\n",
      "==============================\n",
      "*** Open Babel Error  in OpenAndSetFormat\n",
      "  Cannot open smi\n"
     ]
    },
    {
     "name": "stdout",
     "output_type": "stream",
     "text": [
      "4933\n"
     ]
    },
    {
     "name": "stderr",
     "output_type": "stream",
     "text": [
      "1 molecule converted\n",
      "==============================\n",
      "*** Open Babel Error  in OpenAndSetFormat\n",
      "  Cannot open smi\n"
     ]
    },
    {
     "name": "stdout",
     "output_type": "stream",
     "text": [
      "4934\n"
     ]
    },
    {
     "name": "stderr",
     "output_type": "stream",
     "text": [
      "1 molecule converted\n",
      "==============================\n",
      "*** Open Babel Error  in OpenAndSetFormat\n",
      "  Cannot open smi\n"
     ]
    },
    {
     "name": "stdout",
     "output_type": "stream",
     "text": [
      "4935\n"
     ]
    },
    {
     "name": "stderr",
     "output_type": "stream",
     "text": [
      "1 molecule converted\n",
      "==============================\n",
      "*** Open Babel Error  in OpenAndSetFormat\n",
      "  Cannot open smi\n"
     ]
    },
    {
     "name": "stdout",
     "output_type": "stream",
     "text": [
      "4936\n"
     ]
    },
    {
     "name": "stderr",
     "output_type": "stream",
     "text": [
      "1 molecule converted\n",
      "==============================\n",
      "*** Open Babel Error  in OpenAndSetFormat\n",
      "  Cannot open smi\n"
     ]
    },
    {
     "name": "stdout",
     "output_type": "stream",
     "text": [
      "4937\n"
     ]
    },
    {
     "name": "stderr",
     "output_type": "stream",
     "text": [
      "1 molecule converted\n",
      "==============================\n",
      "*** Open Babel Error  in OpenAndSetFormat\n",
      "  Cannot open smi\n"
     ]
    },
    {
     "name": "stdout",
     "output_type": "stream",
     "text": [
      "4938\n"
     ]
    },
    {
     "name": "stderr",
     "output_type": "stream",
     "text": [
      "1 molecule converted\n",
      "==============================\n",
      "*** Open Babel Error  in OpenAndSetFormat\n",
      "  Cannot open smi\n"
     ]
    },
    {
     "name": "stdout",
     "output_type": "stream",
     "text": [
      "4939\n"
     ]
    },
    {
     "name": "stderr",
     "output_type": "stream",
     "text": [
      "1 molecule converted\n",
      "==============================\n",
      "*** Open Babel Error  in OpenAndSetFormat\n",
      "  Cannot open smi\n"
     ]
    },
    {
     "name": "stdout",
     "output_type": "stream",
     "text": [
      "4940\n"
     ]
    },
    {
     "name": "stderr",
     "output_type": "stream",
     "text": [
      "1 molecule converted\n",
      "==============================\n",
      "*** Open Babel Error  in OpenAndSetFormat\n",
      "  Cannot open smi\n"
     ]
    },
    {
     "name": "stdout",
     "output_type": "stream",
     "text": [
      "4941\n"
     ]
    },
    {
     "name": "stderr",
     "output_type": "stream",
     "text": [
      "1 molecule converted\n",
      "==============================\n",
      "*** Open Babel Error  in OpenAndSetFormat\n",
      "  Cannot open smi\n"
     ]
    },
    {
     "name": "stdout",
     "output_type": "stream",
     "text": [
      "4942\n"
     ]
    },
    {
     "name": "stderr",
     "output_type": "stream",
     "text": [
      "1 molecule converted\n",
      "==============================\n",
      "*** Open Babel Error  in OpenAndSetFormat\n",
      "  Cannot open smi\n"
     ]
    },
    {
     "name": "stdout",
     "output_type": "stream",
     "text": [
      "4943\n"
     ]
    },
    {
     "name": "stderr",
     "output_type": "stream",
     "text": [
      "1 molecule converted\n",
      "==============================\n",
      "*** Open Babel Error  in OpenAndSetFormat\n",
      "  Cannot open smi\n"
     ]
    },
    {
     "name": "stdout",
     "output_type": "stream",
     "text": [
      "4944\n"
     ]
    },
    {
     "name": "stderr",
     "output_type": "stream",
     "text": [
      "1 molecule converted\n",
      "==============================\n",
      "*** Open Babel Error  in OpenAndSetFormat\n",
      "  Cannot open smi\n"
     ]
    },
    {
     "name": "stdout",
     "output_type": "stream",
     "text": [
      "4945\n"
     ]
    },
    {
     "name": "stderr",
     "output_type": "stream",
     "text": [
      "1 molecule converted\n",
      "==============================\n",
      "*** Open Babel Error  in OpenAndSetFormat\n",
      "  Cannot open smi\n"
     ]
    },
    {
     "name": "stdout",
     "output_type": "stream",
     "text": [
      "4946\n"
     ]
    },
    {
     "name": "stderr",
     "output_type": "stream",
     "text": [
      "1 molecule converted\n",
      "==============================\n",
      "*** Open Babel Error  in OpenAndSetFormat\n",
      "  Cannot open smi\n"
     ]
    },
    {
     "name": "stdout",
     "output_type": "stream",
     "text": [
      "4947\n"
     ]
    },
    {
     "name": "stderr",
     "output_type": "stream",
     "text": [
      "1 molecule converted\n",
      "==============================\n",
      "*** Open Babel Error  in OpenAndSetFormat\n",
      "  Cannot open smi\n"
     ]
    },
    {
     "name": "stdout",
     "output_type": "stream",
     "text": [
      "4948\n"
     ]
    },
    {
     "name": "stderr",
     "output_type": "stream",
     "text": [
      "1 molecule converted\n",
      "==============================\n",
      "*** Open Babel Error  in OpenAndSetFormat\n",
      "  Cannot open smi\n"
     ]
    },
    {
     "name": "stdout",
     "output_type": "stream",
     "text": [
      "4949\n"
     ]
    },
    {
     "name": "stderr",
     "output_type": "stream",
     "text": [
      "1 molecule converted\n",
      "==============================\n",
      "*** Open Babel Error  in OpenAndSetFormat\n",
      "  Cannot open smi\n"
     ]
    },
    {
     "name": "stdout",
     "output_type": "stream",
     "text": [
      "4950\n"
     ]
    },
    {
     "name": "stderr",
     "output_type": "stream",
     "text": [
      "1 molecule converted\n",
      "==============================\n",
      "*** Open Babel Error  in OpenAndSetFormat\n",
      "  Cannot open smi\n"
     ]
    },
    {
     "name": "stdout",
     "output_type": "stream",
     "text": [
      "4951\n"
     ]
    },
    {
     "name": "stderr",
     "output_type": "stream",
     "text": [
      "1 molecule converted\n",
      "==============================\n",
      "*** Open Babel Error  in OpenAndSetFormat\n",
      "  Cannot open smi\n"
     ]
    },
    {
     "name": "stdout",
     "output_type": "stream",
     "text": [
      "4952\n"
     ]
    },
    {
     "name": "stderr",
     "output_type": "stream",
     "text": [
      "1 molecule converted\n",
      "==============================\n",
      "*** Open Babel Error  in OpenAndSetFormat\n",
      "  Cannot open smi\n"
     ]
    },
    {
     "name": "stdout",
     "output_type": "stream",
     "text": [
      "4953\n"
     ]
    },
    {
     "name": "stderr",
     "output_type": "stream",
     "text": [
      "1 molecule converted\n",
      "==============================\n",
      "*** Open Babel Error  in OpenAndSetFormat\n",
      "  Cannot open smi\n"
     ]
    },
    {
     "name": "stdout",
     "output_type": "stream",
     "text": [
      "4954\n"
     ]
    },
    {
     "name": "stderr",
     "output_type": "stream",
     "text": [
      "1 molecule converted\n",
      "==============================\n",
      "*** Open Babel Error  in OpenAndSetFormat\n",
      "  Cannot open smi\n"
     ]
    },
    {
     "name": "stdout",
     "output_type": "stream",
     "text": [
      "4955\n"
     ]
    },
    {
     "name": "stderr",
     "output_type": "stream",
     "text": [
      "1 molecule converted\n",
      "==============================\n",
      "*** Open Babel Error  in OpenAndSetFormat\n",
      "  Cannot open smi\n"
     ]
    },
    {
     "name": "stdout",
     "output_type": "stream",
     "text": [
      "4956\n"
     ]
    },
    {
     "name": "stderr",
     "output_type": "stream",
     "text": [
      "1 molecule converted\n",
      "==============================\n",
      "*** Open Babel Error  in OpenAndSetFormat\n",
      "  Cannot open smi\n"
     ]
    },
    {
     "name": "stdout",
     "output_type": "stream",
     "text": [
      "4957\n"
     ]
    },
    {
     "name": "stderr",
     "output_type": "stream",
     "text": [
      "1 molecule converted\n",
      "==============================\n",
      "*** Open Babel Error  in OpenAndSetFormat\n",
      "  Cannot open smi\n"
     ]
    },
    {
     "name": "stdout",
     "output_type": "stream",
     "text": [
      "4958\n"
     ]
    },
    {
     "name": "stderr",
     "output_type": "stream",
     "text": [
      "1 molecule converted\n",
      "==============================\n",
      "*** Open Babel Error  in OpenAndSetFormat\n",
      "  Cannot open smi\n"
     ]
    },
    {
     "name": "stdout",
     "output_type": "stream",
     "text": [
      "4959\n"
     ]
    },
    {
     "name": "stderr",
     "output_type": "stream",
     "text": [
      "1 molecule converted\n",
      "==============================\n",
      "*** Open Babel Error  in OpenAndSetFormat\n",
      "  Cannot open smi\n"
     ]
    },
    {
     "name": "stdout",
     "output_type": "stream",
     "text": [
      "4960\n"
     ]
    },
    {
     "name": "stderr",
     "output_type": "stream",
     "text": [
      "1 molecule converted\n",
      "==============================\n",
      "*** Open Babel Error  in OpenAndSetFormat\n",
      "  Cannot open smi\n"
     ]
    },
    {
     "name": "stdout",
     "output_type": "stream",
     "text": [
      "4961\n"
     ]
    },
    {
     "name": "stderr",
     "output_type": "stream",
     "text": [
      "1 molecule converted\n",
      "==============================\n",
      "*** Open Babel Error  in OpenAndSetFormat\n",
      "  Cannot open smi\n"
     ]
    },
    {
     "name": "stdout",
     "output_type": "stream",
     "text": [
      "4962\n"
     ]
    },
    {
     "name": "stderr",
     "output_type": "stream",
     "text": [
      "1 molecule converted\n",
      "==============================\n",
      "*** Open Babel Error  in OpenAndSetFormat\n",
      "  Cannot open smi\n"
     ]
    },
    {
     "name": "stdout",
     "output_type": "stream",
     "text": [
      "4963\n"
     ]
    },
    {
     "name": "stderr",
     "output_type": "stream",
     "text": [
      "1 molecule converted\n",
      "==============================\n",
      "*** Open Babel Error  in OpenAndSetFormat\n",
      "  Cannot open smi\n"
     ]
    },
    {
     "name": "stdout",
     "output_type": "stream",
     "text": [
      "4964\n"
     ]
    },
    {
     "name": "stderr",
     "output_type": "stream",
     "text": [
      "1 molecule converted\n",
      "==============================\n",
      "*** Open Babel Error  in OpenAndSetFormat\n",
      "  Cannot open smi\n"
     ]
    },
    {
     "name": "stdout",
     "output_type": "stream",
     "text": [
      "4965\n"
     ]
    },
    {
     "name": "stderr",
     "output_type": "stream",
     "text": [
      "1 molecule converted\n",
      "==============================\n",
      "*** Open Babel Error  in OpenAndSetFormat\n",
      "  Cannot open smi\n"
     ]
    },
    {
     "name": "stdout",
     "output_type": "stream",
     "text": [
      "4966\n"
     ]
    },
    {
     "name": "stderr",
     "output_type": "stream",
     "text": [
      "1 molecule converted\n",
      "==============================\n",
      "*** Open Babel Error  in OpenAndSetFormat\n",
      "  Cannot open smi\n"
     ]
    },
    {
     "name": "stdout",
     "output_type": "stream",
     "text": [
      "4967\n"
     ]
    },
    {
     "name": "stderr",
     "output_type": "stream",
     "text": [
      "1 molecule converted\n",
      "==============================\n",
      "*** Open Babel Error  in OpenAndSetFormat\n",
      "  Cannot open smi\n"
     ]
    },
    {
     "name": "stdout",
     "output_type": "stream",
     "text": [
      "4968\n"
     ]
    },
    {
     "name": "stderr",
     "output_type": "stream",
     "text": [
      "1 molecule converted\n",
      "==============================\n",
      "*** Open Babel Error  in OpenAndSetFormat\n",
      "  Cannot open smi\n"
     ]
    },
    {
     "name": "stdout",
     "output_type": "stream",
     "text": [
      "4969\n"
     ]
    },
    {
     "name": "stderr",
     "output_type": "stream",
     "text": [
      "1 molecule converted\n",
      "==============================\n",
      "*** Open Babel Error  in OpenAndSetFormat\n",
      "  Cannot open smi\n"
     ]
    },
    {
     "name": "stdout",
     "output_type": "stream",
     "text": [
      "4970\n"
     ]
    },
    {
     "name": "stderr",
     "output_type": "stream",
     "text": [
      "1 molecule converted\n",
      "==============================\n",
      "*** Open Babel Error  in OpenAndSetFormat\n",
      "  Cannot open smi\n"
     ]
    },
    {
     "name": "stdout",
     "output_type": "stream",
     "text": [
      "4971\n"
     ]
    },
    {
     "name": "stderr",
     "output_type": "stream",
     "text": [
      "1 molecule converted\n",
      "==============================\n",
      "*** Open Babel Error  in OpenAndSetFormat\n",
      "  Cannot open smi\n"
     ]
    },
    {
     "name": "stdout",
     "output_type": "stream",
     "text": [
      "4972\n"
     ]
    },
    {
     "name": "stderr",
     "output_type": "stream",
     "text": [
      "1 molecule converted\n",
      "==============================\n",
      "*** Open Babel Error  in OpenAndSetFormat\n",
      "  Cannot open smi\n"
     ]
    },
    {
     "name": "stdout",
     "output_type": "stream",
     "text": [
      "4973\n"
     ]
    },
    {
     "name": "stderr",
     "output_type": "stream",
     "text": [
      "1 molecule converted\n",
      "==============================\n",
      "*** Open Babel Error  in OpenAndSetFormat\n",
      "  Cannot open smi\n"
     ]
    },
    {
     "name": "stdout",
     "output_type": "stream",
     "text": [
      "4974\n"
     ]
    },
    {
     "name": "stderr",
     "output_type": "stream",
     "text": [
      "1 molecule converted\n",
      "==============================\n",
      "*** Open Babel Error  in OpenAndSetFormat\n",
      "  Cannot open smi\n"
     ]
    },
    {
     "name": "stdout",
     "output_type": "stream",
     "text": [
      "4975\n"
     ]
    },
    {
     "name": "stderr",
     "output_type": "stream",
     "text": [
      "1 molecule converted\n",
      "==============================\n",
      "*** Open Babel Error  in OpenAndSetFormat\n",
      "  Cannot open smi\n"
     ]
    },
    {
     "name": "stdout",
     "output_type": "stream",
     "text": [
      "4976\n"
     ]
    },
    {
     "name": "stderr",
     "output_type": "stream",
     "text": [
      "1 molecule converted\n",
      "==============================\n",
      "*** Open Babel Error  in OpenAndSetFormat\n",
      "  Cannot open smi\n"
     ]
    },
    {
     "name": "stdout",
     "output_type": "stream",
     "text": [
      "4977\n"
     ]
    },
    {
     "name": "stderr",
     "output_type": "stream",
     "text": [
      "1 molecule converted\n",
      "==============================\n",
      "*** Open Babel Error  in OpenAndSetFormat\n",
      "  Cannot open smi\n"
     ]
    },
    {
     "name": "stdout",
     "output_type": "stream",
     "text": [
      "4978\n"
     ]
    },
    {
     "name": "stderr",
     "output_type": "stream",
     "text": [
      "1 molecule converted\n",
      "==============================\n",
      "*** Open Babel Error  in OpenAndSetFormat\n",
      "  Cannot open smi\n"
     ]
    },
    {
     "name": "stdout",
     "output_type": "stream",
     "text": [
      "4979\n"
     ]
    },
    {
     "name": "stderr",
     "output_type": "stream",
     "text": [
      "1 molecule converted\n",
      "==============================\n",
      "*** Open Babel Error  in OpenAndSetFormat\n",
      "  Cannot open smi\n"
     ]
    },
    {
     "name": "stdout",
     "output_type": "stream",
     "text": [
      "4980\n"
     ]
    },
    {
     "name": "stderr",
     "output_type": "stream",
     "text": [
      "1 molecule converted\n",
      "==============================\n",
      "*** Open Babel Error  in OpenAndSetFormat\n",
      "  Cannot open smi\n"
     ]
    },
    {
     "name": "stdout",
     "output_type": "stream",
     "text": [
      "4981\n"
     ]
    },
    {
     "name": "stderr",
     "output_type": "stream",
     "text": [
      "1 molecule converted\n",
      "==============================\n",
      "*** Open Babel Error  in OpenAndSetFormat\n",
      "  Cannot open smi\n"
     ]
    },
    {
     "name": "stdout",
     "output_type": "stream",
     "text": [
      "4982\n"
     ]
    },
    {
     "name": "stderr",
     "output_type": "stream",
     "text": [
      "1 molecule converted\n",
      "==============================\n",
      "*** Open Babel Error  in OpenAndSetFormat\n",
      "  Cannot open smi\n"
     ]
    },
    {
     "name": "stdout",
     "output_type": "stream",
     "text": [
      "4983\n"
     ]
    },
    {
     "name": "stderr",
     "output_type": "stream",
     "text": [
      "1 molecule converted\n",
      "==============================\n",
      "*** Open Babel Error  in OpenAndSetFormat\n",
      "  Cannot open smi\n"
     ]
    },
    {
     "name": "stdout",
     "output_type": "stream",
     "text": [
      "4984\n"
     ]
    },
    {
     "name": "stderr",
     "output_type": "stream",
     "text": [
      "1 molecule converted\n",
      "==============================\n",
      "*** Open Babel Error  in OpenAndSetFormat\n",
      "  Cannot open smi\n"
     ]
    },
    {
     "name": "stdout",
     "output_type": "stream",
     "text": [
      "4985\n"
     ]
    },
    {
     "name": "stderr",
     "output_type": "stream",
     "text": [
      "1 molecule converted\n",
      "==============================\n",
      "*** Open Babel Error  in OpenAndSetFormat\n",
      "  Cannot open smi\n"
     ]
    },
    {
     "name": "stdout",
     "output_type": "stream",
     "text": [
      "4986\n"
     ]
    },
    {
     "name": "stderr",
     "output_type": "stream",
     "text": [
      "1 molecule converted\n",
      "==============================\n",
      "*** Open Babel Error  in OpenAndSetFormat\n",
      "  Cannot open smi\n"
     ]
    },
    {
     "name": "stdout",
     "output_type": "stream",
     "text": [
      "4987\n"
     ]
    },
    {
     "name": "stderr",
     "output_type": "stream",
     "text": [
      "1 molecule converted\n",
      "==============================\n",
      "*** Open Babel Error  in OpenAndSetFormat\n",
      "  Cannot open smi\n"
     ]
    },
    {
     "name": "stdout",
     "output_type": "stream",
     "text": [
      "4988\n"
     ]
    },
    {
     "name": "stderr",
     "output_type": "stream",
     "text": [
      "1 molecule converted\n",
      "==============================\n",
      "*** Open Babel Error  in OpenAndSetFormat\n",
      "  Cannot open smi\n"
     ]
    },
    {
     "name": "stdout",
     "output_type": "stream",
     "text": [
      "4989\n"
     ]
    },
    {
     "name": "stderr",
     "output_type": "stream",
     "text": [
      "1 molecule converted\n",
      "==============================\n",
      "*** Open Babel Error  in OpenAndSetFormat\n",
      "  Cannot open smi\n"
     ]
    },
    {
     "name": "stdout",
     "output_type": "stream",
     "text": [
      "4990\n"
     ]
    },
    {
     "name": "stderr",
     "output_type": "stream",
     "text": [
      "1 molecule converted\n",
      "==============================\n",
      "*** Open Babel Error  in OpenAndSetFormat\n",
      "  Cannot open smi\n"
     ]
    },
    {
     "name": "stdout",
     "output_type": "stream",
     "text": [
      "4991\n"
     ]
    },
    {
     "name": "stderr",
     "output_type": "stream",
     "text": [
      "1 molecule converted\n",
      "==============================\n",
      "*** Open Babel Error  in OpenAndSetFormat\n",
      "  Cannot open smi\n"
     ]
    },
    {
     "name": "stdout",
     "output_type": "stream",
     "text": [
      "4992\n"
     ]
    },
    {
     "name": "stderr",
     "output_type": "stream",
     "text": [
      "1 molecule converted\n",
      "==============================\n",
      "*** Open Babel Error  in OpenAndSetFormat\n",
      "  Cannot open smi\n"
     ]
    },
    {
     "name": "stdout",
     "output_type": "stream",
     "text": [
      "4993\n"
     ]
    },
    {
     "name": "stderr",
     "output_type": "stream",
     "text": [
      "1 molecule converted\n",
      "==============================\n",
      "*** Open Babel Error  in OpenAndSetFormat\n",
      "  Cannot open smi\n"
     ]
    },
    {
     "name": "stdout",
     "output_type": "stream",
     "text": [
      "4994\n"
     ]
    },
    {
     "name": "stderr",
     "output_type": "stream",
     "text": [
      "1 molecule converted\n",
      "==============================\n",
      "*** Open Babel Error  in OpenAndSetFormat\n",
      "  Cannot open smi\n"
     ]
    },
    {
     "name": "stdout",
     "output_type": "stream",
     "text": [
      "4995\n"
     ]
    },
    {
     "name": "stderr",
     "output_type": "stream",
     "text": [
      "1 molecule converted\n",
      "==============================\n",
      "*** Open Babel Error  in OpenAndSetFormat\n",
      "  Cannot open smi\n"
     ]
    },
    {
     "name": "stdout",
     "output_type": "stream",
     "text": [
      "4996\n"
     ]
    },
    {
     "name": "stderr",
     "output_type": "stream",
     "text": [
      "1 molecule converted\n",
      "==============================\n",
      "*** Open Babel Error  in OpenAndSetFormat\n",
      "  Cannot open smi\n"
     ]
    },
    {
     "name": "stdout",
     "output_type": "stream",
     "text": [
      "4997\n"
     ]
    },
    {
     "name": "stderr",
     "output_type": "stream",
     "text": [
      "1 molecule converted\n",
      "==============================\n",
      "*** Open Babel Error  in OpenAndSetFormat\n",
      "  Cannot open smi\n"
     ]
    },
    {
     "name": "stdout",
     "output_type": "stream",
     "text": [
      "4998\n"
     ]
    },
    {
     "name": "stderr",
     "output_type": "stream",
     "text": [
      "1 molecule converted\n",
      "==============================\n",
      "*** Open Babel Error  in OpenAndSetFormat\n",
      "  Cannot open smi\n"
     ]
    },
    {
     "name": "stdout",
     "output_type": "stream",
     "text": [
      "4999\n"
     ]
    },
    {
     "name": "stderr",
     "output_type": "stream",
     "text": [
      "1 molecule converted\n",
      "==============================\n",
      "*** Open Babel Error  in OpenAndSetFormat\n",
      "  Cannot open smi\n"
     ]
    },
    {
     "name": "stdout",
     "output_type": "stream",
     "text": [
      "5000\n"
     ]
    },
    {
     "name": "stderr",
     "output_type": "stream",
     "text": [
      "1 molecule converted\n",
      "==============================\n",
      "*** Open Babel Error  in OpenAndSetFormat\n",
      "  Cannot open smi\n"
     ]
    },
    {
     "name": "stdout",
     "output_type": "stream",
     "text": [
      "5001\n"
     ]
    },
    {
     "name": "stderr",
     "output_type": "stream",
     "text": [
      "1 molecule converted\n",
      "==============================\n",
      "*** Open Babel Error  in OpenAndSetFormat\n",
      "  Cannot open smi\n"
     ]
    },
    {
     "name": "stdout",
     "output_type": "stream",
     "text": [
      "5002\n"
     ]
    },
    {
     "name": "stderr",
     "output_type": "stream",
     "text": [
      "1 molecule converted\n",
      "==============================\n",
      "*** Open Babel Error  in OpenAndSetFormat\n",
      "  Cannot open smi\n"
     ]
    },
    {
     "name": "stdout",
     "output_type": "stream",
     "text": [
      "5003\n"
     ]
    },
    {
     "name": "stderr",
     "output_type": "stream",
     "text": [
      "1 molecule converted\n",
      "==============================\n",
      "*** Open Babel Error  in OpenAndSetFormat\n",
      "  Cannot open smi\n"
     ]
    },
    {
     "name": "stdout",
     "output_type": "stream",
     "text": [
      "5004\n"
     ]
    },
    {
     "name": "stderr",
     "output_type": "stream",
     "text": [
      "1 molecule converted\n",
      "==============================\n",
      "*** Open Babel Error  in OpenAndSetFormat\n",
      "  Cannot open smi\n"
     ]
    },
    {
     "name": "stdout",
     "output_type": "stream",
     "text": [
      "5005\n"
     ]
    },
    {
     "name": "stderr",
     "output_type": "stream",
     "text": [
      "1 molecule converted\n",
      "==============================\n",
      "*** Open Babel Error  in OpenAndSetFormat\n",
      "  Cannot open smi\n"
     ]
    },
    {
     "name": "stdout",
     "output_type": "stream",
     "text": [
      "5006\n"
     ]
    },
    {
     "name": "stderr",
     "output_type": "stream",
     "text": [
      "1 molecule converted\n",
      "==============================\n",
      "*** Open Babel Error  in OpenAndSetFormat\n",
      "  Cannot open smi\n"
     ]
    },
    {
     "name": "stdout",
     "output_type": "stream",
     "text": [
      "5007\n"
     ]
    },
    {
     "name": "stderr",
     "output_type": "stream",
     "text": [
      "1 molecule converted\n",
      "==============================\n",
      "*** Open Babel Error  in OpenAndSetFormat\n",
      "  Cannot open smi\n"
     ]
    },
    {
     "name": "stdout",
     "output_type": "stream",
     "text": [
      "5008\n"
     ]
    },
    {
     "name": "stderr",
     "output_type": "stream",
     "text": [
      "1 molecule converted\n",
      "==============================\n",
      "*** Open Babel Error  in OpenAndSetFormat\n",
      "  Cannot open smi\n"
     ]
    },
    {
     "name": "stdout",
     "output_type": "stream",
     "text": [
      "5009\n"
     ]
    },
    {
     "name": "stderr",
     "output_type": "stream",
     "text": [
      "1 molecule converted\n",
      "==============================\n",
      "*** Open Babel Error  in OpenAndSetFormat\n",
      "  Cannot open smi\n"
     ]
    },
    {
     "name": "stdout",
     "output_type": "stream",
     "text": [
      "5010\n"
     ]
    },
    {
     "name": "stderr",
     "output_type": "stream",
     "text": [
      "1 molecule converted\n",
      "==============================\n",
      "*** Open Babel Error  in OpenAndSetFormat\n",
      "  Cannot open smi\n"
     ]
    },
    {
     "name": "stdout",
     "output_type": "stream",
     "text": [
      "5011\n"
     ]
    },
    {
     "name": "stderr",
     "output_type": "stream",
     "text": [
      "1 molecule converted\n",
      "==============================\n",
      "*** Open Babel Error  in OpenAndSetFormat\n",
      "  Cannot open smi\n"
     ]
    },
    {
     "name": "stdout",
     "output_type": "stream",
     "text": [
      "5012\n"
     ]
    },
    {
     "name": "stderr",
     "output_type": "stream",
     "text": [
      "1 molecule converted\n",
      "==============================\n",
      "*** Open Babel Error  in OpenAndSetFormat\n",
      "  Cannot open smi\n"
     ]
    },
    {
     "name": "stdout",
     "output_type": "stream",
     "text": [
      "5013\n"
     ]
    },
    {
     "name": "stderr",
     "output_type": "stream",
     "text": [
      "1 molecule converted\n",
      "==============================\n",
      "*** Open Babel Error  in OpenAndSetFormat\n",
      "  Cannot open smi\n"
     ]
    },
    {
     "name": "stdout",
     "output_type": "stream",
     "text": [
      "5014\n"
     ]
    },
    {
     "name": "stderr",
     "output_type": "stream",
     "text": [
      "1 molecule converted\n",
      "==============================\n",
      "*** Open Babel Error  in OpenAndSetFormat\n",
      "  Cannot open smi\n"
     ]
    },
    {
     "name": "stdout",
     "output_type": "stream",
     "text": [
      "5015\n",
      "5016\n"
     ]
    },
    {
     "name": "stderr",
     "output_type": "stream",
     "text": [
      "1 molecule converted\n",
      "==============================\n",
      "*** Open Babel Error  in OpenAndSetFormat\n",
      "  Cannot open smi\n",
      "==============================\n",
      "*** Open Babel Error  in OpenAndSetFormat\n",
      "  Cannot open Datasmile/EOS5016.smi\n",
      "0 molecules converted\n"
     ]
    }
   ],
   "source": [
    "\n",
    "for i in range(1,5016):\n",
    "    bashCommand = \"obabel smi Datasmile/EOS\"+str(i)+\".smi -O DataH/EOS\"+str(i)+\".pdb  -m -h --gen3d\"\n",
    "    process = subprocess.Popen(bashCommand.split())\n",
    "    output, error = process.communicate()"
   ]
  },
  {
   "cell_type": "markdown",
   "id": "e638ee3c",
   "metadata": {},
   "source": [
    "# Change the name of the file"
   ]
  },
  {
   "cell_type": "code",
   "execution_count": 29,
   "id": "5fda9f2f",
   "metadata": {},
   "outputs": [
    {
     "name": "stderr",
     "output_type": "stream",
     "text": [
      "mv: DataH/EOS1EOS1.pdb: No such file or directory\n",
      "mv: DataH/EOS2EOS2.pdb: No such file or directory\n",
      "mv: DataH/EOS3EOS3.pdb: No such file or directory\n",
      "mv: DataH/EOS4EOS4.pdb: No such file or directory\n",
      "mv: DataH/EOS5EOS5.pdb: No such file or directory\n",
      "mv: DataH/EOS6EOS6.pdb: No such file or directory\n",
      "mv: DataH/EOS7EOS7.pdb: No such file or directory\n",
      "mv: DataH/EOS8EOS8.pdb: No such file or directory\n",
      "mv: DataH/EOS9EOS9.pdb: No such file or directory\n",
      "mv: DataH/EOS10EOS10.pdb: No such file or directory\n",
      "mv: DataH/EOS11EOS11.pdb: No such file or directory\n",
      "mv: DataH/EOS12EOS12.pdb: No such file or directory\n",
      "mv: DataH/EOS13EOS13.pdb: No such file or directory\n",
      "mv: DataH/EOS14EOS14.pdb: No such file or directory\n",
      "mv: DataH/EOS15EOS15.pdb: No such file or directory\n",
      "mv: DataH/EOS16EOS16.pdb: No such file or directory\n",
      "mv: DataH/EOS17EOS17.pdb: No such file or directory\n",
      "mv: DataH/EOS18EOS18.pdb: No such file or directory\n",
      "mv: DataH/EOS19EOS19.pdb: No such file or directory\n",
      "mv: DataH/EOS20EOS20.pdb: No such file or directory\n",
      "mv: DataH/EOS21EOS21.pdb: No such file or directory\n",
      "mv: DataH/EOS22EOS22.pdb: No such file or directory\n",
      "mv: DataH/EOS23EOS23.pdb: No such file or directory\n",
      "mv: DataH/EOS24EOS24.pdb: No such file or directory\n",
      "mv: DataH/EOS25EOS25.pdb: No such file or directory\n",
      "mv: DataH/EOS26EOS26.pdb: No such file or directory\n",
      "mv: DataH/EOS27EOS27.pdb: No such file or directory\n",
      "mv: DataH/EOS28EOS28.pdb: No such file or directory\n",
      "mv: DataH/EOS29EOS29.pdb: No such file or directory\n",
      "mv: DataH/EOS30EOS30.pdb: No such file or directory\n",
      "mv: DataH/EOS31EOS31.pdb: No such file or directory\n",
      "mv: DataH/EOS32EOS32.pdb: No such file or directory\n",
      "mv: DataH/EOS33EOS33.pdb: No such file or directory\n",
      "mv: DataH/EOS34EOS34.pdb: No such file or directory\n",
      "mv: DataH/EOS35EOS35.pdb: No such file or directory\n",
      "mv: DataH/EOS36EOS36.pdb: No such file or directory\n",
      "mv: DataH/EOS37EOS37.pdb: No such file or directory\n",
      "mv: DataH/EOS38EOS38.pdb: No such file or directory\n",
      "mv: DataH/EOS39EOS39.pdb: No such file or directory\n",
      "mv: DataH/EOS40EOS40.pdb: No such file or directory\n",
      "mv: DataH/EOS41EOS41.pdb: No such file or directory\n",
      "mv: DataH/EOS42EOS42.pdb: No such file or directory\n",
      "mv: DataH/EOS43EOS43.pdb: No such file or directory\n",
      "mv: DataH/EOS44EOS44.pdb: No such file or directory\n",
      "mv: DataH/EOS45EOS45.pdb: No such file or directory\n",
      "mv: DataH/EOS46EOS46.pdb: No such file or directory\n",
      "mv: DataH/EOS47EOS47.pdb: No such file or directory\n",
      "mv: DataH/EOS48EOS48.pdb: No such file or directory\n",
      "mv: DataH/EOS49EOS49.pdb: No such file or directory\n",
      "mv: DataH/EOS50EOS50.pdb: No such file or directory\n",
      "mv: DataH/EOS51EOS51.pdb: No such file or directory\n",
      "mv: DataH/EOS52EOS52.pdb: No such file or directory\n",
      "mv: DataH/EOS53EOS53.pdb: No such file or directory\n",
      "mv: DataH/EOS54EOS54.pdb: No such file or directory\n",
      "mv: DataH/EOS55EOS55.pdb: No such file or directory\n",
      "mv: DataH/EOS56EOS56.pdb: No such file or directory\n",
      "mv: DataH/EOS57EOS57.pdb: No such file or directory\n",
      "mv: DataH/EOS58EOS58.pdb: No such file or directory\n",
      "mv: DataH/EOS59EOS59.pdb: No such file or directory\n",
      "mv: DataH/EOS60EOS60.pdb: No such file or directory\n",
      "mv: DataH/EOS61EOS61.pdb: No such file or directory\n",
      "mv: DataH/EOS62EOS62.pdb: No such file or directory\n",
      "mv: DataH/EOS63EOS63.pdb: No such file or directory\n",
      "mv: DataH/EOS64EOS64.pdb: No such file or directory\n",
      "mv: DataH/EOS65EOS65.pdb: No such file or directory\n",
      "mv: DataH/EOS66EOS66.pdb: No such file or directory\n",
      "mv: DataH/EOS67EOS67.pdb: No such file or directory\n",
      "mv: DataH/EOS68EOS68.pdb: No such file or directory\n",
      "mv: DataH/EOS69EOS69.pdb: No such file or directory\n",
      "mv: DataH/EOS70EOS70.pdb: No such file or directory\n",
      "mv: DataH/EOS71EOS71.pdb: No such file or directory\n",
      "mv: DataH/EOS72EOS72.pdb: No such file or directory\n",
      "mv: DataH/EOS73EOS73.pdb: No such file or directory\n",
      "mv: DataH/EOS74EOS74.pdb: No such file or directory\n",
      "mv: DataH/EOS75EOS75.pdb: No such file or directory\n",
      "mv: DataH/EOS76EOS76.pdb: No such file or directory\n",
      "mv: DataH/EOS77EOS77.pdb: No such file or directory\n",
      "mv: DataH/EOS78EOS78.pdb: No such file or directory\n",
      "mv: DataH/EOS79EOS79.pdb: No such file or directory\n",
      "mv: DataH/EOS80EOS80.pdb: No such file or directory\n",
      "mv: DataH/EOS81EOS81.pdb: No such file or directory\n",
      "mv: DataH/EOS82EOS82.pdb: No such file or directory\n",
      "mv: DataH/EOS83EOS83.pdb: No such file or directory\n",
      "mv: DataH/EOS84EOS84.pdb: No such file or directory\n",
      "mv: DataH/EOS85EOS85.pdb: No such file or directory\n",
      "mv: DataH/EOS86EOS86.pdb: No such file or directory\n",
      "mv: DataH/EOS87EOS87.pdb: No such file or directory\n",
      "mv: DataH/EOS88EOS88.pdb: No such file or directory\n",
      "mv: DataH/EOS89EOS89.pdb: No such file or directory\n",
      "mv: DataH/EOS90EOS90.pdb: No such file or directory\n",
      "mv: DataH/EOS91EOS91.pdb: No such file or directory\n",
      "mv: DataH/EOS92EOS92.pdb: No such file or directory\n",
      "mv: DataH/EOS93EOS93.pdb: No such file or directory\n",
      "mv: DataH/EOS94EOS94.pdb: No such file or directory\n",
      "mv: DataH/EOS95EOS95.pdb: No such file or directory\n",
      "mv: DataH/EOS96EOS96.pdb: No such file or directory\n",
      "mv: DataH/EOS97EOS97.pdb: No such file or directory\n",
      "mv: DataH/EOS98EOS98.pdb: No such file or directory\n",
      "mv: DataH/EOS99EOS99.pdb: No such file or directory\n",
      "mv: DataH/EOS100EOS100.pdb: No such file or directory\n",
      "mv: DataH/EOS101EOS101.pdb: No such file or directory\n",
      "mv: DataH/EOS102EOS102.pdb: No such file or directory\n",
      "mv: DataH/EOS103EOS103.pdb: No such file or directory\n",
      "mv: DataH/EOS104EOS104.pdb: No such file or directory\n",
      "mv: DataH/EOS105EOS105.pdb: No such file or directory\n",
      "mv: DataH/EOS106EOS106.pdb: No such file or directory\n",
      "mv: DataH/EOS107EOS107.pdb: No such file or directory\n",
      "mv: DataH/EOS108EOS108.pdb: No such file or directory\n",
      "mv: DataH/EOS109EOS109.pdb: No such file or directory\n",
      "mv: DataH/EOS110EOS110.pdb: No such file or directory\n",
      "mv: DataH/EOS111EOS111.pdb: No such file or directory\n",
      "mv: DataH/EOS112EOS112.pdb: No such file or directory\n",
      "mv: DataH/EOS113EOS113.pdb: No such file or directory\n",
      "mv: DataH/EOS114EOS114.pdb: No such file or directory\n",
      "mv: DataH/EOS115EOS115.pdb: No such file or directory\n",
      "mv: DataH/EOS116EOS116.pdb: No such file or directory\n",
      "mv: rename DataH/EOS5016EOS5016.pdb to DataH2/EOS5016.pdb: No such file or directory\n"
     ]
    }
   ],
   "source": [
    "for i in range(1,5016):\n",
    "    bashCommand = \"mv DataH/EOS\"+str(i)+\"EOS\"+str(i)+\".pdb DataH2/EOS\"+str(i)+\".pdb\"\n",
    "    process = subprocess.Popen(bashCommand.split())\n",
    "    output, error = process.communicate()"
   ]
  },
  {
   "cell_type": "code",
   "execution_count": null,
   "id": "3e852252",
   "metadata": {},
   "outputs": [],
   "source": []
  }
 ],
 "metadata": {
  "kernelspec": {
   "display_name": "Python 3 (ipykernel)",
   "language": "python",
   "name": "python3"
  },
  "language_info": {
   "codemirror_mode": {
    "name": "ipython",
    "version": 3
   },
   "file_extension": ".py",
   "mimetype": "text/x-python",
   "name": "python",
   "nbconvert_exporter": "python",
   "pygments_lexer": "ipython3",
   "version": "3.9.12"
  }
 },
 "nbformat": 4,
 "nbformat_minor": 5
}
